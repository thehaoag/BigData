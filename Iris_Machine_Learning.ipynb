{
  "nbformat": 4,
  "nbformat_minor": 0,
  "metadata": {
    "colab": {
      "name": "Iris_Machine_Learning.ipynb",
      "provenance": [],
      "collapsed_sections": [],
      "authorship_tag": "ABX9TyNfq+cmlG1ZdglsSTTBh7r/",
      "include_colab_link": true
    },
    "kernelspec": {
      "name": "python3",
      "display_name": "Python 3"
    },
    "language_info": {
      "name": "python"
    }
  },
  "cells": [
    {
      "cell_type": "markdown",
      "metadata": {
        "id": "view-in-github",
        "colab_type": "text"
      },
      "source": [
        "<a href=\"https://colab.research.google.com/github/thehaoag/BigData/blob/main/Iris_Machine_Learning.ipynb\" target=\"_parent\"><img src=\"https://colab.research.google.com/assets/colab-badge.svg\" alt=\"Open In Colab\"/></a>"
      ]
    },
    {
      "cell_type": "code",
      "metadata": {
        "colab": {
          "base_uri": "https://localhost:8080/"
        },
        "id": "ifysucNSIMg4",
        "outputId": "f0f0781b-4410-430b-807d-5c10c336f19d"
      },
      "source": [
        "pip install pyspark"
      ],
      "execution_count": 1,
      "outputs": [
        {
          "output_type": "stream",
          "text": [
            "Collecting pyspark\n",
            "\u001b[?25l  Downloading https://files.pythonhosted.org/packages/45/b0/9d6860891ab14a39d4bddf80ba26ce51c2f9dc4805e5c6978ac0472c120a/pyspark-3.1.1.tar.gz (212.3MB)\n",
            "\u001b[K     |████████████████████████████████| 212.3MB 68kB/s \n",
            "\u001b[?25hCollecting py4j==0.10.9\n",
            "\u001b[?25l  Downloading https://files.pythonhosted.org/packages/9e/b6/6a4fb90cd235dc8e265a6a2067f2a2c99f0d91787f06aca4bcf7c23f3f80/py4j-0.10.9-py2.py3-none-any.whl (198kB)\n",
            "\u001b[K     |████████████████████████████████| 204kB 45.5MB/s \n",
            "\u001b[?25hBuilding wheels for collected packages: pyspark\n",
            "  Building wheel for pyspark (setup.py) ... \u001b[?25l\u001b[?25hdone\n",
            "  Created wheel for pyspark: filename=pyspark-3.1.1-py2.py3-none-any.whl size=212767604 sha256=429672189984bd2a3115855bbea93c03a9008dcef98673cda0c3dfa531ebc46a\n",
            "  Stored in directory: /root/.cache/pip/wheels/0b/90/c0/01de724414ef122bd05f056541fb6a0ecf47c7ca655f8b3c0f\n",
            "Successfully built pyspark\n",
            "Installing collected packages: py4j, pyspark\n",
            "Successfully installed py4j-0.10.9 pyspark-3.1.1\n"
          ],
          "name": "stdout"
        }
      ]
    },
    {
      "cell_type": "code",
      "metadata": {
        "colab": {
          "base_uri": "https://localhost:8080/"
        },
        "id": "kqIATUsRIZOw",
        "outputId": "8a7390d1-99c0-4fb0-c639-9a70d734cd5f"
      },
      "source": [
        "from google.colab import drive\n",
        "drive.mount('/content/drive')"
      ],
      "execution_count": 2,
      "outputs": [
        {
          "output_type": "stream",
          "text": [
            "Mounted at /content/drive\n"
          ],
          "name": "stdout"
        }
      ]
    },
    {
      "cell_type": "code",
      "metadata": {
        "id": "vpQxf_LIIR43"
      },
      "source": [
        "from pyspark.sql import SparkSession\n",
        "spark = SparkSession.builder.appName(\"ML project\").getOrCreate()"
      ],
      "execution_count": 3,
      "outputs": []
    },
    {
      "cell_type": "code",
      "metadata": {
        "colab": {
          "base_uri": "https://localhost:8080/"
        },
        "id": "1eiczZOPITT3",
        "outputId": "fc3595d7-e398-4a65-abe2-4f9310b68c94"
      },
      "source": [
        "df = spark.read.csv(\"/content/drive/MyDrive/BigData/iris.data\",header=True,inferSchema=True)\n",
        "df.printSchema()"
      ],
      "execution_count": 4,
      "outputs": [
        {
          "output_type": "stream",
          "text": [
            "root\n",
            " |-- 5.1: double (nullable = true)\n",
            " |-- 3.5: double (nullable = true)\n",
            " |-- 1.4: double (nullable = true)\n",
            " |-- 0.2: double (nullable = true)\n",
            " |-- Iris-setosa: string (nullable = true)\n",
            "\n"
          ],
          "name": "stdout"
        }
      ]
    },
    {
      "cell_type": "code",
      "metadata": {
        "colab": {
          "base_uri": "https://localhost:8080/"
        },
        "id": "qh7aH1QiIk03",
        "outputId": "d20b7e2b-a827-44a2-b86f-b806bcf5c2ad"
      },
      "source": [
        "k=len(df.columns)\n",
        "for i in range(k):\n",
        "  old_name = df.columns[i]\n",
        "  new_name = \"f\"+str(i)\n",
        "  print(new_name)\n",
        "  df=df.withColumnRenamed(old_name,new_name)"
      ],
      "execution_count": 5,
      "outputs": [
        {
          "output_type": "stream",
          "text": [
            "f0\n",
            "f1\n",
            "f2\n",
            "f3\n",
            "f4\n"
          ],
          "name": "stdout"
        }
      ]
    },
    {
      "cell_type": "code",
      "metadata": {
        "colab": {
          "base_uri": "https://localhost:8080/"
        },
        "id": "ef02bvKbInKx",
        "outputId": "88a652bb-22aa-41ec-bdc3-5c786717b97e"
      },
      "source": [
        "df.show()"
      ],
      "execution_count": 6,
      "outputs": [
        {
          "output_type": "stream",
          "text": [
            "+---+---+---+---+-----------+\n",
            "| f0| f1| f2| f3|         f4|\n",
            "+---+---+---+---+-----------+\n",
            "|4.9|3.0|1.4|0.2|Iris-setosa|\n",
            "|4.7|3.2|1.3|0.2|Iris-setosa|\n",
            "|4.6|3.1|1.5|0.2|Iris-setosa|\n",
            "|5.0|3.6|1.4|0.2|Iris-setosa|\n",
            "|5.4|3.9|1.7|0.4|Iris-setosa|\n",
            "|4.6|3.4|1.4|0.3|Iris-setosa|\n",
            "|5.0|3.4|1.5|0.2|Iris-setosa|\n",
            "|4.4|2.9|1.4|0.2|Iris-setosa|\n",
            "|4.9|3.1|1.5|0.1|Iris-setosa|\n",
            "|5.4|3.7|1.5|0.2|Iris-setosa|\n",
            "|4.8|3.4|1.6|0.2|Iris-setosa|\n",
            "|4.8|3.0|1.4|0.1|Iris-setosa|\n",
            "|4.3|3.0|1.1|0.1|Iris-setosa|\n",
            "|5.8|4.0|1.2|0.2|Iris-setosa|\n",
            "|5.7|4.4|1.5|0.4|Iris-setosa|\n",
            "|5.4|3.9|1.3|0.4|Iris-setosa|\n",
            "|5.1|3.5|1.4|0.3|Iris-setosa|\n",
            "|5.7|3.8|1.7|0.3|Iris-setosa|\n",
            "|5.1|3.8|1.5|0.3|Iris-setosa|\n",
            "|5.4|3.4|1.7|0.2|Iris-setosa|\n",
            "+---+---+---+---+-----------+\n",
            "only showing top 20 rows\n",
            "\n"
          ],
          "name": "stdout"
        }
      ]
    },
    {
      "cell_type": "code",
      "metadata": {
        "colab": {
          "base_uri": "https://localhost:8080/",
          "height": 195
        },
        "id": "Q2fcMSRFIoWT",
        "outputId": "b5981cd1-c369-4c48-964a-3f13c7bc2d6c"
      },
      "source": [
        "import pandas as pd\n",
        "pd.DataFrame(df.take(5),columns=df.columns).transpose()"
      ],
      "execution_count": 7,
      "outputs": [
        {
          "output_type": "execute_result",
          "data": {
            "text/html": [
              "<div>\n",
              "<style scoped>\n",
              "    .dataframe tbody tr th:only-of-type {\n",
              "        vertical-align: middle;\n",
              "    }\n",
              "\n",
              "    .dataframe tbody tr th {\n",
              "        vertical-align: top;\n",
              "    }\n",
              "\n",
              "    .dataframe thead th {\n",
              "        text-align: right;\n",
              "    }\n",
              "</style>\n",
              "<table border=\"1\" class=\"dataframe\">\n",
              "  <thead>\n",
              "    <tr style=\"text-align: right;\">\n",
              "      <th></th>\n",
              "      <th>0</th>\n",
              "      <th>1</th>\n",
              "      <th>2</th>\n",
              "      <th>3</th>\n",
              "      <th>4</th>\n",
              "    </tr>\n",
              "  </thead>\n",
              "  <tbody>\n",
              "    <tr>\n",
              "      <th>f0</th>\n",
              "      <td>4.9</td>\n",
              "      <td>4.7</td>\n",
              "      <td>4.6</td>\n",
              "      <td>5</td>\n",
              "      <td>5.4</td>\n",
              "    </tr>\n",
              "    <tr>\n",
              "      <th>f1</th>\n",
              "      <td>3</td>\n",
              "      <td>3.2</td>\n",
              "      <td>3.1</td>\n",
              "      <td>3.6</td>\n",
              "      <td>3.9</td>\n",
              "    </tr>\n",
              "    <tr>\n",
              "      <th>f2</th>\n",
              "      <td>1.4</td>\n",
              "      <td>1.3</td>\n",
              "      <td>1.5</td>\n",
              "      <td>1.4</td>\n",
              "      <td>1.7</td>\n",
              "    </tr>\n",
              "    <tr>\n",
              "      <th>f3</th>\n",
              "      <td>0.2</td>\n",
              "      <td>0.2</td>\n",
              "      <td>0.2</td>\n",
              "      <td>0.2</td>\n",
              "      <td>0.4</td>\n",
              "    </tr>\n",
              "    <tr>\n",
              "      <th>f4</th>\n",
              "      <td>Iris-setosa</td>\n",
              "      <td>Iris-setosa</td>\n",
              "      <td>Iris-setosa</td>\n",
              "      <td>Iris-setosa</td>\n",
              "      <td>Iris-setosa</td>\n",
              "    </tr>\n",
              "  </tbody>\n",
              "</table>\n",
              "</div>"
            ],
            "text/plain": [
              "              0            1            2            3            4\n",
              "f0          4.9          4.7          4.6            5          5.4\n",
              "f1            3          3.2          3.1          3.6          3.9\n",
              "f2          1.4          1.3          1.5          1.4          1.7\n",
              "f3          0.2          0.2          0.2          0.2          0.4\n",
              "f4  Iris-setosa  Iris-setosa  Iris-setosa  Iris-setosa  Iris-setosa"
            ]
          },
          "metadata": {
            "tags": []
          },
          "execution_count": 7
        }
      ]
    },
    {
      "cell_type": "code",
      "metadata": {
        "colab": {
          "base_uri": "https://localhost:8080/"
        },
        "id": "30jGQ2ocItOY",
        "outputId": "43b2640c-09d7-4fac-8282-05a8967e97d0"
      },
      "source": [
        "class_name = df.columns[len(df.columns)-1]\n",
        "df.groupBy(class_name).count().toPandas()\n",
        "print(class_name)"
      ],
      "execution_count": 8,
      "outputs": [
        {
          "output_type": "stream",
          "text": [
            "f4\n"
          ],
          "name": "stdout"
        }
      ]
    },
    {
      "cell_type": "code",
      "metadata": {
        "id": "vYg6xPL7Ium5"
      },
      "source": [
        "from pyspark.ml.feature import StringIndexer\n",
        "indexer = StringIndexer()\n",
        "indexer.setInputCol(class_name).setOutputCol(\"label\")\n",
        "df1=indexer.fit(df).transform(df)"
      ],
      "execution_count": 9,
      "outputs": []
    },
    {
      "cell_type": "code",
      "metadata": {
        "colab": {
          "base_uri": "https://localhost:8080/"
        },
        "id": "E9XGTpj9IvvP",
        "outputId": "48bc1987-32ed-457d-b56c-3b1286b79be6"
      },
      "source": [
        "df1.show()"
      ],
      "execution_count": 10,
      "outputs": [
        {
          "output_type": "stream",
          "text": [
            "+---+---+---+---+-----------+-----+\n",
            "| f0| f1| f2| f3|         f4|label|\n",
            "+---+---+---+---+-----------+-----+\n",
            "|4.9|3.0|1.4|0.2|Iris-setosa|  2.0|\n",
            "|4.7|3.2|1.3|0.2|Iris-setosa|  2.0|\n",
            "|4.6|3.1|1.5|0.2|Iris-setosa|  2.0|\n",
            "|5.0|3.6|1.4|0.2|Iris-setosa|  2.0|\n",
            "|5.4|3.9|1.7|0.4|Iris-setosa|  2.0|\n",
            "|4.6|3.4|1.4|0.3|Iris-setosa|  2.0|\n",
            "|5.0|3.4|1.5|0.2|Iris-setosa|  2.0|\n",
            "|4.4|2.9|1.4|0.2|Iris-setosa|  2.0|\n",
            "|4.9|3.1|1.5|0.1|Iris-setosa|  2.0|\n",
            "|5.4|3.7|1.5|0.2|Iris-setosa|  2.0|\n",
            "|4.8|3.4|1.6|0.2|Iris-setosa|  2.0|\n",
            "|4.8|3.0|1.4|0.1|Iris-setosa|  2.0|\n",
            "|4.3|3.0|1.1|0.1|Iris-setosa|  2.0|\n",
            "|5.8|4.0|1.2|0.2|Iris-setosa|  2.0|\n",
            "|5.7|4.4|1.5|0.4|Iris-setosa|  2.0|\n",
            "|5.4|3.9|1.3|0.4|Iris-setosa|  2.0|\n",
            "|5.1|3.5|1.4|0.3|Iris-setosa|  2.0|\n",
            "|5.7|3.8|1.7|0.3|Iris-setosa|  2.0|\n",
            "|5.1|3.8|1.5|0.3|Iris-setosa|  2.0|\n",
            "|5.4|3.4|1.7|0.2|Iris-setosa|  2.0|\n",
            "+---+---+---+---+-----------+-----+\n",
            "only showing top 20 rows\n",
            "\n"
          ],
          "name": "stdout"
        }
      ]
    },
    {
      "cell_type": "code",
      "metadata": {
        "id": "Cf8WItrjIw-D"
      },
      "source": [
        "(training_data,test_data)=df1.randomSplit([0.8,0.2])"
      ],
      "execution_count": 11,
      "outputs": []
    },
    {
      "cell_type": "code",
      "metadata": {
        "colab": {
          "base_uri": "https://localhost:8080/",
          "height": 402
        },
        "id": "IHoMvbM-Ix3D",
        "outputId": "006e9e99-1401-4172-a193-ff62812451d6"
      },
      "source": [
        "training_data.toPandas()"
      ],
      "execution_count": 12,
      "outputs": [
        {
          "output_type": "execute_result",
          "data": {
            "text/html": [
              "<div>\n",
              "<style scoped>\n",
              "    .dataframe tbody tr th:only-of-type {\n",
              "        vertical-align: middle;\n",
              "    }\n",
              "\n",
              "    .dataframe tbody tr th {\n",
              "        vertical-align: top;\n",
              "    }\n",
              "\n",
              "    .dataframe thead th {\n",
              "        text-align: right;\n",
              "    }\n",
              "</style>\n",
              "<table border=\"1\" class=\"dataframe\">\n",
              "  <thead>\n",
              "    <tr style=\"text-align: right;\">\n",
              "      <th></th>\n",
              "      <th>f0</th>\n",
              "      <th>f1</th>\n",
              "      <th>f2</th>\n",
              "      <th>f3</th>\n",
              "      <th>f4</th>\n",
              "      <th>label</th>\n",
              "    </tr>\n",
              "  </thead>\n",
              "  <tbody>\n",
              "    <tr>\n",
              "      <th>0</th>\n",
              "      <td>4.4</td>\n",
              "      <td>3.0</td>\n",
              "      <td>1.3</td>\n",
              "      <td>0.2</td>\n",
              "      <td>Iris-setosa</td>\n",
              "      <td>2.0</td>\n",
              "    </tr>\n",
              "    <tr>\n",
              "      <th>1</th>\n",
              "      <td>4.4</td>\n",
              "      <td>3.2</td>\n",
              "      <td>1.3</td>\n",
              "      <td>0.2</td>\n",
              "      <td>Iris-setosa</td>\n",
              "      <td>2.0</td>\n",
              "    </tr>\n",
              "    <tr>\n",
              "      <th>2</th>\n",
              "      <td>4.6</td>\n",
              "      <td>3.1</td>\n",
              "      <td>1.5</td>\n",
              "      <td>0.2</td>\n",
              "      <td>Iris-setosa</td>\n",
              "      <td>2.0</td>\n",
              "    </tr>\n",
              "    <tr>\n",
              "      <th>3</th>\n",
              "      <td>4.6</td>\n",
              "      <td>3.2</td>\n",
              "      <td>1.4</td>\n",
              "      <td>0.2</td>\n",
              "      <td>Iris-setosa</td>\n",
              "      <td>2.0</td>\n",
              "    </tr>\n",
              "    <tr>\n",
              "      <th>4</th>\n",
              "      <td>4.6</td>\n",
              "      <td>3.4</td>\n",
              "      <td>1.4</td>\n",
              "      <td>0.3</td>\n",
              "      <td>Iris-setosa</td>\n",
              "      <td>2.0</td>\n",
              "    </tr>\n",
              "    <tr>\n",
              "      <th>...</th>\n",
              "      <td>...</td>\n",
              "      <td>...</td>\n",
              "      <td>...</td>\n",
              "      <td>...</td>\n",
              "      <td>...</td>\n",
              "      <td>...</td>\n",
              "    </tr>\n",
              "    <tr>\n",
              "      <th>110</th>\n",
              "      <td>7.6</td>\n",
              "      <td>3.0</td>\n",
              "      <td>6.6</td>\n",
              "      <td>2.1</td>\n",
              "      <td>Iris-virginica</td>\n",
              "      <td>1.0</td>\n",
              "    </tr>\n",
              "    <tr>\n",
              "      <th>111</th>\n",
              "      <td>7.7</td>\n",
              "      <td>2.6</td>\n",
              "      <td>6.9</td>\n",
              "      <td>2.3</td>\n",
              "      <td>Iris-virginica</td>\n",
              "      <td>1.0</td>\n",
              "    </tr>\n",
              "    <tr>\n",
              "      <th>112</th>\n",
              "      <td>7.7</td>\n",
              "      <td>2.8</td>\n",
              "      <td>6.7</td>\n",
              "      <td>2.0</td>\n",
              "      <td>Iris-virginica</td>\n",
              "      <td>1.0</td>\n",
              "    </tr>\n",
              "    <tr>\n",
              "      <th>113</th>\n",
              "      <td>7.7</td>\n",
              "      <td>3.0</td>\n",
              "      <td>6.1</td>\n",
              "      <td>2.3</td>\n",
              "      <td>Iris-virginica</td>\n",
              "      <td>1.0</td>\n",
              "    </tr>\n",
              "    <tr>\n",
              "      <th>114</th>\n",
              "      <td>7.7</td>\n",
              "      <td>3.8</td>\n",
              "      <td>6.7</td>\n",
              "      <td>2.2</td>\n",
              "      <td>Iris-virginica</td>\n",
              "      <td>1.0</td>\n",
              "    </tr>\n",
              "  </tbody>\n",
              "</table>\n",
              "<p>115 rows × 6 columns</p>\n",
              "</div>"
            ],
            "text/plain": [
              "      f0   f1   f2   f3              f4  label\n",
              "0    4.4  3.0  1.3  0.2     Iris-setosa    2.0\n",
              "1    4.4  3.2  1.3  0.2     Iris-setosa    2.0\n",
              "2    4.6  3.1  1.5  0.2     Iris-setosa    2.0\n",
              "3    4.6  3.2  1.4  0.2     Iris-setosa    2.0\n",
              "4    4.6  3.4  1.4  0.3     Iris-setosa    2.0\n",
              "..   ...  ...  ...  ...             ...    ...\n",
              "110  7.6  3.0  6.6  2.1  Iris-virginica    1.0\n",
              "111  7.7  2.6  6.9  2.3  Iris-virginica    1.0\n",
              "112  7.7  2.8  6.7  2.0  Iris-virginica    1.0\n",
              "113  7.7  3.0  6.1  2.3  Iris-virginica    1.0\n",
              "114  7.7  3.8  6.7  2.2  Iris-virginica    1.0\n",
              "\n",
              "[115 rows x 6 columns]"
            ]
          },
          "metadata": {
            "tags": []
          },
          "execution_count": 12
        }
      ]
    },
    {
      "cell_type": "code",
      "metadata": {
        "colab": {
          "base_uri": "https://localhost:8080/"
        },
        "id": "c8IUzptBIzLL",
        "outputId": "777d3645-10d8-430a-a7ad-52afe47a7a22"
      },
      "source": [
        "class_name=\"label\"\n",
        "feature_name=df.columns[:-1]\n",
        "print(class_name)\n",
        "print(feature_name)"
      ],
      "execution_count": 13,
      "outputs": [
        {
          "output_type": "stream",
          "text": [
            "label\n",
            "['f0', 'f1', 'f2', 'f3']\n"
          ],
          "name": "stdout"
        }
      ]
    },
    {
      "cell_type": "code",
      "metadata": {
        "id": "T7L8CsXpI0oh"
      },
      "source": [
        "from pyspark.ml.feature import VectorAssembler\n",
        "assembler = VectorAssembler()\n",
        "assembler.setInputCols(feature_name).setOutputCol(\"features\")\n",
        "transformed_data = assembler.transform(df1)"
      ],
      "execution_count": 14,
      "outputs": []
    },
    {
      "cell_type": "code",
      "metadata": {
        "colab": {
          "base_uri": "https://localhost:8080/",
          "height": 402
        },
        "id": "dd3-Y0nmI1ng",
        "outputId": "9acd6739-45c5-455d-9e33-a0c5f096ad4c"
      },
      "source": [
        "transformed_data.toPandas()"
      ],
      "execution_count": 15,
      "outputs": [
        {
          "output_type": "execute_result",
          "data": {
            "text/html": [
              "<div>\n",
              "<style scoped>\n",
              "    .dataframe tbody tr th:only-of-type {\n",
              "        vertical-align: middle;\n",
              "    }\n",
              "\n",
              "    .dataframe tbody tr th {\n",
              "        vertical-align: top;\n",
              "    }\n",
              "\n",
              "    .dataframe thead th {\n",
              "        text-align: right;\n",
              "    }\n",
              "</style>\n",
              "<table border=\"1\" class=\"dataframe\">\n",
              "  <thead>\n",
              "    <tr style=\"text-align: right;\">\n",
              "      <th></th>\n",
              "      <th>f0</th>\n",
              "      <th>f1</th>\n",
              "      <th>f2</th>\n",
              "      <th>f3</th>\n",
              "      <th>f4</th>\n",
              "      <th>label</th>\n",
              "      <th>features</th>\n",
              "    </tr>\n",
              "  </thead>\n",
              "  <tbody>\n",
              "    <tr>\n",
              "      <th>0</th>\n",
              "      <td>4.9</td>\n",
              "      <td>3.0</td>\n",
              "      <td>1.4</td>\n",
              "      <td>0.2</td>\n",
              "      <td>Iris-setosa</td>\n",
              "      <td>2.0</td>\n",
              "      <td>[4.9, 3.0, 1.4, 0.2]</td>\n",
              "    </tr>\n",
              "    <tr>\n",
              "      <th>1</th>\n",
              "      <td>4.7</td>\n",
              "      <td>3.2</td>\n",
              "      <td>1.3</td>\n",
              "      <td>0.2</td>\n",
              "      <td>Iris-setosa</td>\n",
              "      <td>2.0</td>\n",
              "      <td>[4.7, 3.2, 1.3, 0.2]</td>\n",
              "    </tr>\n",
              "    <tr>\n",
              "      <th>2</th>\n",
              "      <td>4.6</td>\n",
              "      <td>3.1</td>\n",
              "      <td>1.5</td>\n",
              "      <td>0.2</td>\n",
              "      <td>Iris-setosa</td>\n",
              "      <td>2.0</td>\n",
              "      <td>[4.6, 3.1, 1.5, 0.2]</td>\n",
              "    </tr>\n",
              "    <tr>\n",
              "      <th>3</th>\n",
              "      <td>5.0</td>\n",
              "      <td>3.6</td>\n",
              "      <td>1.4</td>\n",
              "      <td>0.2</td>\n",
              "      <td>Iris-setosa</td>\n",
              "      <td>2.0</td>\n",
              "      <td>[5.0, 3.6, 1.4, 0.2]</td>\n",
              "    </tr>\n",
              "    <tr>\n",
              "      <th>4</th>\n",
              "      <td>5.4</td>\n",
              "      <td>3.9</td>\n",
              "      <td>1.7</td>\n",
              "      <td>0.4</td>\n",
              "      <td>Iris-setosa</td>\n",
              "      <td>2.0</td>\n",
              "      <td>[5.4, 3.9, 1.7, 0.4]</td>\n",
              "    </tr>\n",
              "    <tr>\n",
              "      <th>...</th>\n",
              "      <td>...</td>\n",
              "      <td>...</td>\n",
              "      <td>...</td>\n",
              "      <td>...</td>\n",
              "      <td>...</td>\n",
              "      <td>...</td>\n",
              "      <td>...</td>\n",
              "    </tr>\n",
              "    <tr>\n",
              "      <th>144</th>\n",
              "      <td>6.7</td>\n",
              "      <td>3.0</td>\n",
              "      <td>5.2</td>\n",
              "      <td>2.3</td>\n",
              "      <td>Iris-virginica</td>\n",
              "      <td>1.0</td>\n",
              "      <td>[6.7, 3.0, 5.2, 2.3]</td>\n",
              "    </tr>\n",
              "    <tr>\n",
              "      <th>145</th>\n",
              "      <td>6.3</td>\n",
              "      <td>2.5</td>\n",
              "      <td>5.0</td>\n",
              "      <td>1.9</td>\n",
              "      <td>Iris-virginica</td>\n",
              "      <td>1.0</td>\n",
              "      <td>[6.3, 2.5, 5.0, 1.9]</td>\n",
              "    </tr>\n",
              "    <tr>\n",
              "      <th>146</th>\n",
              "      <td>6.5</td>\n",
              "      <td>3.0</td>\n",
              "      <td>5.2</td>\n",
              "      <td>2.0</td>\n",
              "      <td>Iris-virginica</td>\n",
              "      <td>1.0</td>\n",
              "      <td>[6.5, 3.0, 5.2, 2.0]</td>\n",
              "    </tr>\n",
              "    <tr>\n",
              "      <th>147</th>\n",
              "      <td>6.2</td>\n",
              "      <td>3.4</td>\n",
              "      <td>5.4</td>\n",
              "      <td>2.3</td>\n",
              "      <td>Iris-virginica</td>\n",
              "      <td>1.0</td>\n",
              "      <td>[6.2, 3.4, 5.4, 2.3]</td>\n",
              "    </tr>\n",
              "    <tr>\n",
              "      <th>148</th>\n",
              "      <td>5.9</td>\n",
              "      <td>3.0</td>\n",
              "      <td>5.1</td>\n",
              "      <td>1.8</td>\n",
              "      <td>Iris-virginica</td>\n",
              "      <td>1.0</td>\n",
              "      <td>[5.9, 3.0, 5.1, 1.8]</td>\n",
              "    </tr>\n",
              "  </tbody>\n",
              "</table>\n",
              "<p>149 rows × 7 columns</p>\n",
              "</div>"
            ],
            "text/plain": [
              "      f0   f1   f2   f3              f4  label              features\n",
              "0    4.9  3.0  1.4  0.2     Iris-setosa    2.0  [4.9, 3.0, 1.4, 0.2]\n",
              "1    4.7  3.2  1.3  0.2     Iris-setosa    2.0  [4.7, 3.2, 1.3, 0.2]\n",
              "2    4.6  3.1  1.5  0.2     Iris-setosa    2.0  [4.6, 3.1, 1.5, 0.2]\n",
              "3    5.0  3.6  1.4  0.2     Iris-setosa    2.0  [5.0, 3.6, 1.4, 0.2]\n",
              "4    5.4  3.9  1.7  0.4     Iris-setosa    2.0  [5.4, 3.9, 1.7, 0.4]\n",
              "..   ...  ...  ...  ...             ...    ...                   ...\n",
              "144  6.7  3.0  5.2  2.3  Iris-virginica    1.0  [6.7, 3.0, 5.2, 2.3]\n",
              "145  6.3  2.5  5.0  1.9  Iris-virginica    1.0  [6.3, 2.5, 5.0, 1.9]\n",
              "146  6.5  3.0  5.2  2.0  Iris-virginica    1.0  [6.5, 3.0, 5.2, 2.0]\n",
              "147  6.2  3.4  5.4  2.3  Iris-virginica    1.0  [6.2, 3.4, 5.4, 2.3]\n",
              "148  5.9  3.0  5.1  1.8  Iris-virginica    1.0  [5.9, 3.0, 5.1, 1.8]\n",
              "\n",
              "[149 rows x 7 columns]"
            ]
          },
          "metadata": {
            "tags": []
          },
          "execution_count": 15
        }
      ]
    },
    {
      "cell_type": "code",
      "metadata": {
        "id": "7p_VbmLhI2-h"
      },
      "source": [
        "(training_data, test_data) = transformed_data.randomSplit([0.8,0.2])"
      ],
      "execution_count": 16,
      "outputs": []
    },
    {
      "cell_type": "code",
      "metadata": {
        "id": "zDy1rDfXI4K7"
      },
      "source": [
        "from pyspark.ml.classification import LogisticRegression\n",
        "model = LogisticRegression(featuresCol = 'features',labelCol=class_name, maxIter=30)"
      ],
      "execution_count": 17,
      "outputs": []
    },
    {
      "cell_type": "code",
      "metadata": {
        "id": "Dkb_V6c7I5bq"
      },
      "source": [
        "M = model.fit(training_data)"
      ],
      "execution_count": 18,
      "outputs": []
    },
    {
      "cell_type": "code",
      "metadata": {
        "id": "CePhCyy-I6U8"
      },
      "source": [
        "predictions = M.transform(test_data)"
      ],
      "execution_count": 19,
      "outputs": []
    },
    {
      "cell_type": "code",
      "metadata": {
        "colab": {
          "base_uri": "https://localhost:8080/"
        },
        "id": "QE_PpaJQI7ng",
        "outputId": "b2ea424d-37de-4db4-82e8-3086588ab8c5"
      },
      "source": [
        "from pyspark.ml.evaluation import MulticlassClassificationEvaluator\n",
        "\n",
        "multi_evaluator = MulticlassClassificationEvaluator(labelCol = 'label', metricName = 'accuracy')\n",
        "print('Logistic Regression Accuracy:', multi_evaluator.evaluate(predictions))"
      ],
      "execution_count": 20,
      "outputs": [
        {
          "output_type": "stream",
          "text": [
            "Logistic Regression Accuracy: 1.0\n"
          ],
          "name": "stdout"
        }
      ]
    }
  ]
}