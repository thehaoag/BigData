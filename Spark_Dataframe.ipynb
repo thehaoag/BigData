{
  "nbformat": 4,
  "nbformat_minor": 0,
  "metadata": {
    "colab": {
      "name": "Spark_Dataframe.ipynb",
      "provenance": [],
      "collapsed_sections": [],
      "authorship_tag": "ABX9TyMUd3xgLPw1DVMv1xz9Q096",
      "include_colab_link": true
    },
    "kernelspec": {
      "name": "python3",
      "display_name": "Python 3"
    },
    "language_info": {
      "name": "python"
    }
  },
  "cells": [
    {
      "cell_type": "markdown",
      "metadata": {
        "id": "view-in-github",
        "colab_type": "text"
      },
      "source": [
        "<a href=\"https://colab.research.google.com/github/thehaoag/BigData/blob/main/Spark_Dataframe.ipynb\" target=\"_parent\"><img src=\"https://colab.research.google.com/assets/colab-badge.svg\" alt=\"Open In Colab\"/></a>"
      ]
    },
    {
      "cell_type": "code",
      "metadata": {
        "colab": {
          "base_uri": "https://localhost:8080/"
        },
        "id": "LW0YrPHYLZD7",
        "outputId": "cfadec69-3e57-499a-a280-b8e410a97bdd"
      },
      "source": [
        "pip install pyspark"
      ],
      "execution_count": 1,
      "outputs": [
        {
          "output_type": "stream",
          "text": [
            "Collecting pyspark\n",
            "\u001b[?25l  Downloading https://files.pythonhosted.org/packages/45/b0/9d6860891ab14a39d4bddf80ba26ce51c2f9dc4805e5c6978ac0472c120a/pyspark-3.1.1.tar.gz (212.3MB)\n",
            "\u001b[K     |████████████████████████████████| 212.3MB 71kB/s \n",
            "\u001b[?25hCollecting py4j==0.10.9\n",
            "\u001b[?25l  Downloading https://files.pythonhosted.org/packages/9e/b6/6a4fb90cd235dc8e265a6a2067f2a2c99f0d91787f06aca4bcf7c23f3f80/py4j-0.10.9-py2.py3-none-any.whl (198kB)\n",
            "\u001b[K     |████████████████████████████████| 204kB 46.1MB/s \n",
            "\u001b[?25hBuilding wheels for collected packages: pyspark\n",
            "  Building wheel for pyspark (setup.py) ... \u001b[?25l\u001b[?25hdone\n",
            "  Created wheel for pyspark: filename=pyspark-3.1.1-py2.py3-none-any.whl size=212767604 sha256=7ae41a522e9493245690fa2070fda2de3151d9d0e9fb004d57fa73d15791bc49\n",
            "  Stored in directory: /root/.cache/pip/wheels/0b/90/c0/01de724414ef122bd05f056541fb6a0ecf47c7ca655f8b3c0f\n",
            "Successfully built pyspark\n",
            "Installing collected packages: py4j, pyspark\n",
            "Successfully installed py4j-0.10.9 pyspark-3.1.1\n"
          ],
          "name": "stdout"
        }
      ]
    },
    {
      "cell_type": "code",
      "metadata": {
        "colab": {
          "base_uri": "https://localhost:8080/"
        },
        "id": "LnrQJe_-Lh3Q",
        "outputId": "f6e335c9-7e9f-4a7a-9fe6-7bf58ca10c16"
      },
      "source": [
        "import pyspark\n",
        "from pyspark import SparkConf, SparkContext\n",
        "from pyspark.sql import SparkSession\n",
        "import collections\n",
        "spark = SparkSession.builder.master(\"local[2]\").appName(\"dataframetest\").getOrCreate()\n",
        "data = [('51800574','Loi','Tan','Huynh','2000-02-26','M',3320),\n",
        "  ('51800544','Minh','Nhat','Pham','2000-05-19','M',1000),\n",
        "  ('51800302','Linh','Nhat','Nguyen','2000-09-05','M',4000),\n",
        "  ('51800112','Nam','Van','Ho','2000-04-01','M',2200),\n",
        "  ('51800115','Thong','Huy','Luu','2000-07-17','M',3480)\n",
        "]\n",
        "\n",
        "columns = [\"id\",\"firstname\",\"middlename\",\"lastname\",\"birth\",\"gender\",\"salary\"]\n",
        "df = spark.createDataFrame(data=data, schema = columns)\n",
        "# df.show() hiển thị 20 phần tử đầu\n",
        "df.show()"
      ],
      "execution_count": 2,
      "outputs": [
        {
          "output_type": "stream",
          "text": [
            "+--------+---------+----------+--------+----------+------+------+\n",
            "|      id|firstname|middlename|lastname|     birth|gender|salary|\n",
            "+--------+---------+----------+--------+----------+------+------+\n",
            "|51800574|      Loi|       Tan|   Huynh|2000-02-26|     M|  3320|\n",
            "|51800544|     Minh|      Nhat|    Pham|2000-05-19|     M|  1000|\n",
            "|51800302|     Linh|      Nhat|  Nguyen|2000-09-05|     M|  4000|\n",
            "|51800112|      Nam|       Van|      Ho|2000-04-01|     M|  2200|\n",
            "|51800115|    Thong|       Huy|     Luu|2000-07-17|     M|  3480|\n",
            "+--------+---------+----------+--------+----------+------+------+\n",
            "\n"
          ],
          "name": "stdout"
        }
      ]
    },
    {
      "cell_type": "markdown",
      "metadata": {
        "id": "Ms4svSbSMTtA"
      },
      "source": [
        "# SPARK DATAFRAME: EXAMPLE"
      ]
    },
    {
      "cell_type": "code",
      "metadata": {
        "colab": {
          "base_uri": "https://localhost:8080/"
        },
        "id": "HgIBPUV3MVco",
        "outputId": "88a3ce2a-72d5-4a5e-e08a-31181c6f9ca5"
      },
      "source": [
        "import pyspark\n",
        "from pyspark import SparkConf, SparkContext\n",
        "from pyspark.sql import SparkSession\n",
        "import collections\n",
        "from google.colab import drive\n",
        "drive.mount('/content/drive', force_remount=True)"
      ],
      "execution_count": 3,
      "outputs": [
        {
          "output_type": "stream",
          "text": [
            "Mounted at /content/drive\n"
          ],
          "name": "stdout"
        }
      ]
    },
    {
      "cell_type": "code",
      "metadata": {
        "colab": {
          "base_uri": "https://localhost:8080/"
        },
        "id": "yYL0c0R1MbK_",
        "outputId": "4d9dd8a9-8faa-4909-c099-1a997b56586a"
      },
      "source": [
        "spark = SparkSession.builder.master(\"local[2]\").appName(\"dataframetest\").getOrCreate()\n",
        "df = spark.read.csv(\"drive/MyDrive/BigData/fifa_cleaned.csv\", inferSchema = True, header = True)\n",
        "df.show()"
      ],
      "execution_count": 4,
      "outputs": [
        {
          "output_type": "stream",
          "text": [
            "+------+---------------+--------------------+----------+---+---------+----------+---------+-----------+--------------+---------+----------+---------+--------------+-----------------------------+--------------+----------------+--------------+-------------------+--------------------+-------------------+-----------+-------------+------------------+--------------+-----------------+-------------+---------------+----------------------+----------------------+--------+---------+----------------+-------------+-------+---------+-----+-----------------+------------+------------+------------+------------+-------+---------+-------+----------+-------+-------+--------+----------+----------+-------------+-----------+------+---------+---------+-------+---------------+--------------+---------+-----------+----------+--------------+-----------+--------------------+--------------------+----+----+----+----+----+----+----+----+----+----+----+----+----+----+----+----+----+----+----+----+----+----+----+----+----+----+\n",
            "|    id|           name|           full_name|birth_date|age|height_cm|weight_kgs|positions|nationality|overall_rating|potential|value_euro|wage_euro|preferred_foot|international_reputation(1-5)|weak_foot(1-5)|skill_moves(1-5)|     work_rate|          body_type| release_clause_euro|          club_team|club_rating|club_position|club_jersey_number|club_join_date|contract_end_year|national_team|national_rating|national_team_position|national_jersey_number|crossing|finishing|heading_accuracy|short_passing|volleys|dribbling|curve|freekick_accuracy|long_passing|ball_control|acceleration|sprint_speed|agility|reactions|balance|shot_power|jumping|stamina|strength|long_shots|aggression|interceptions|positioning|vision|penalties|composure|marking|standing_tackle|sliding_tackle|GK_diving|GK_handling|GK_kicking|GK_positioning|GK_reflexes|                tags|              traits|  LS|  ST|  RS|  LW|  LF|  CF|  RF|  RW| LAM| CAM| RAM|  LM| LCM|  CM| RCM|  RM| LWB| LDM| CDM| RDM| RWB|  LB| LCB|  CB| RCB|  RB|\n",
            "+------+---------------+--------------------+----------+---+---------+----------+---------+-----------+--------------+---------+----------+---------+--------------+-----------------------------+--------------+----------------+--------------+-------------------+--------------------+-------------------+-----------+-------------+------------------+--------------+-----------------+-------------+---------------+----------------------+----------------------+--------+---------+----------------+-------------+-------+---------+-----+-----------------+------------+------------+------------+------------+-------+---------+-------+----------+-------+-------+--------+----------+----------+-------------+-----------+------+---------+---------+-------+---------------+--------------+---------+-----------+----------+--------------+-----------+--------------------+--------------------+----+----+----+----+----+----+----+----+----+----+----+----+----+----+----+----+----+----+----+----+----+----+----+----+----+----+\n",
            "|158023|       L. Messi|Lionel Andrés Mes...|1987-06-24| 31|   170.18|      72.1| CF,RW,ST|  Argentina|            94|       94|   1.105E8| 565000.0|          Left|                            5|             4|               4|   Medium/ Low|              Messi|             2.265E8|       FC Barcelona|       86.0|           RW|              10.0|    2004-07-01|             2021|    Argentina|           82.0|                    RF|                  10.0|      86|       95|              70|           92|     86|       97|   93|               94|          89|          96|          91|          86|     93|       95|     95|        85|     68|     72|      66|        94|        48|           22|         94|    94|       75|       96|     33|             28|            26|        6|         11|        15|            14|          8|#Dribbler,#Distan...|Finesse Shot,Long...|89+2|89+2|89+2|93+2|93+2|93+2|93+2|93+2|93+2|93+2|93+2|91+2|85+2|85+2|85+2|91+2|64+2|61+2|61+2|61+2|64+2|59+2|48+2|48+2|48+2|59+2|\n",
            "|190460|     C. Eriksen|Christian  Dannem...|1992-02-14| 27|   154.94|      76.2|CAM,RM,CM|    Denmark|            88|       89|    6.95E7| 205000.0|         Right|                            3|             5|               4|  High/ Medium|               Lean|1.3380000000000001E8|  Tottenham Hotspur|       83.0|          LCM|              23.0|    2013-08-30|             2020|      Denmark|           78.0|                   CAM|                  10.0|      88|       81|              52|           91|     80|       84|   86|               87|          89|          91|          76|          73|     80|       88|     81|        84|     50|     92|      58|        89|        46|           56|         84|    91|       67|       88|     59|             57|            22|        9|         14|         7|             7|          6|#Playmaker  ,#Cro...|Flair,Long Shot T...|79+3|79+3|79+3|85+3|84+3|84+3|84+3|85+3|86+3|86+3|86+3|86+3|85+3|85+3|85+3|86+3|71+3|71+3|71+3|71+3|71+3|66+3|57+3|57+3|57+3|66+3|\n",
            "|195864|       P. Pogba|          Paul Pogba|1993-03-15| 25|    190.5|      83.9|   CM,CAM|     France|            88|       91|     7.3E7| 255000.0|         Right|                            4|             4|               5|  High/ Medium|             Normal|             1.442E8|  Manchester United|       82.0|          LCM|               6.0|    2016-08-09|             2021|       France|           84.0|                   RDM|                   6.0|      80|       75|              75|           86|     85|       87|   85|               82|          90|          90|          71|          79|     76|       82|     66|        90|     83|     88|      87|        82|        78|           64|         82|    88|       82|       87|     63|             67|            67|        5|          6|         2|             4|          3|#Dribbler,#Playma...|Flair,Long Passer...|81+3|81+3|81+3|82+3|83+3|83+3|83+3|82+3|84+3|84+3|84+3|83+3|84+3|84+3|84+3|83+3|76+3|77+3|77+3|77+3|76+3|74+3|72+3|72+3|72+3|74+3|\n",
            "|198219|     L. Insigne|     Lorenzo Insigne|1991-06-04| 27|   162.56|      59.0|    LW,ST|      Italy|            88|       88|     6.2E7| 165000.0|         Right|                            3|             4|               4|  High/ Medium|             Normal|             1.054E8|             Napoli|       82.0|           LS|              24.0|    2010-07-01|             2022|        Italy|           83.0|                    LW|                  10.0|      86|       77|              56|           85|     74|       90|   87|               77|          78|          93|          94|          86|     94|       83|     93|        75|     53|     75|      44|        84|        34|           26|         83|    87|       61|       83|     51|             24|            22|        8|          4|        14|             9|         10|#Speedster,#Dribb...|Finesse Shot,Long...|78+3|78+3|78+3|86+3|85+3|85+3|85+3|86+3|86+3|86+3|86+3|86+3|78+3|78+3|78+3|86+3|63+3|58+3|58+3|58+3|63+3|58+3|44+3|44+3|44+3|58+3|\n",
            "|201024|   K. Koulibaly|   Kalidou Koulibaly|1991-06-20| 27|   187.96|      88.9|       CB|    Senegal|            88|       91|     6.0E7| 135000.0|         Right|                            3|             3|               2|    High/ High|             Normal|             1.065E8|             Napoli|       82.0|          LCB|              26.0|    2014-07-01|             2021|         null|           null|                  null|                  null|      30|       22|              83|           68|     14|       69|   28|               28|          60|          63|          70|          75|     50|       82|     40|        55|     81|     75|      94|        15|        87|           88|         24|    49|       33|       80|     91|             88|            87|        7|         11|         7|            13|          5|#Tackling ,#Tacti...|        Power Header|53+3|53+3|53+3|53+3|54+3|54+3|54+3|53+3|55+3|55+3|55+3|57+3|61+3|61+3|61+3|57+3|73+3|77+3|77+3|77+3|73+3|76+3|85+3|85+3|85+3|76+3|\n",
            "|203376|    V. van Dijk|     Virgil van Dijk|1991-07-08| 27|   193.04|      92.1|       CB|Netherlands|            88|       90|    5.95E7| 215000.0|         Right|                            3|             3|               2|Medium/ Medium|             Normal|             1.145E8|          Liverpool|       83.0|          LCB|               4.0|    2018-01-01|             2023|  Netherlands|           81.0|                   LCB|                   4.0|      53|       52|              83|           79|     45|       70|   60|               70|          81|          76|          74|          77|     61|       87|     49|        81|     88|     75|      92|        64|        82|           88|         41|    60|       62|       87|     90|             89|            84|       13|         10|        13|            11|         11|#Tactician ,#Stre...|Injury Free,Leade...|68+3|68+3|68+3|66+3|67+3|67+3|67+3|66+3|68+3|68+3|68+3|68+3|73+3|73+3|73+3|68+3|78+3|82+3|82+3|82+3|78+3|80+3|86+3|86+3|86+3|80+3|\n",
            "|231747|      K. Mbappé|       Kylian Mbappé|1998-12-20| 20|    152.4|      73.0| RW,ST,RM|     France|            88|       95|     8.1E7| 100000.0|         Right|                            3|             4|               5|  High/ Medium|               Lean|             1.661E8|Paris Saint-Germain|       84.0|           LS|               7.0|    2018-07-01|             2022|       France|           84.0|                    RM|                  10.0|      77|       88|              77|           82|     78|       90|   77|               63|          73|          91|          96|          96|     92|       87|     83|        79|     75|     83|      71|        78|        62|           38|         88|    82|       70|       86|     34|             34|            32|       13|          5|         7|            11|          6|#Speedster,#Dribb...|Finesse Shot,Flai...|85+3|85+3|85+3|87+3|87+3|87+3|87+3|87+3|86+3|86+3|86+3|86+3|78+3|78+3|78+3|86+3|66+3|62+3|62+3|62+3|66+3|62+3|54+3|54+3|54+3|62+3|\n",
            "|153079|      S. Agüero|Sergio Leonel Agü...|1988-06-02| 30|   172.72|      69.9|       ST|  Argentina|            89|       89|    6.45E7| 300000.0|         Right|                            4|             4|               4|  High/ Medium|             Stocky|             1.193E8|    Manchester City|       85.0|           ST|              10.0|    2011-07-28|             2021|    Argentina|           82.0|                   SUB|                  11.0|      70|       93|              77|           81|     85|       89|   82|               73|          64|          89|          88|          80|     86|       90|     91|        88|     81|     76|      73|        83|        65|           24|         92|    83|       83|       90|     30|             20|            12|       13|         15|         6|            11|         14|#Dribbler,#Acroba...|Beat Offside Trap...|86+3|86+3|86+3|86+3|87+3|87+3|87+3|86+3|85+3|85+3|85+3|83+3|76+3|76+3|76+3|83+3|58+3|56+3|56+3|56+3|58+3|53+3|47+3|47+3|47+3|53+3|\n",
            "|167495|       M. Neuer|        Manuel Neuer|1986-03-27| 32|   193.04|      92.1|       GK|    Germany|            89|       89|     3.8E7| 130000.0|         Right|                            5|             4|               1|Medium/ Medium|             Normal|              6.27E7|  FC Bayern München|       85.0|           GK|               1.0|    2011-07-01|             2021|      Germany|           85.0|                    GK|                   1.0|      15|       13|              25|           55|     11|       30|   14|               11|          59|          46|          54|          60|     51|       84|     35|        25|     77|     43|      80|        16|        29|           30|         12|    70|       47|       70|     17|             10|            11|       90|         86|        91|            87|         87|                null|GK Long Throw,1-o...|null|null|null|null|null|null|null|null|null|null|null|null|null|null|null|null|null|null|null|null|null|null|null|null|null|null|\n",
            "|179813|      E. Cavani|Edinson Roberto C...|1987-02-14| 32|   185.42|      77.1|       ST|    Uruguay|            89|       89|     6.0E7| 200000.0|         Right|                            4|             4|               3|    High/ High|               Lean|              1.11E8|Paris Saint-Germain|       84.0|           RS|               9.0|    2013-07-16|             2020|      Uruguay|           81.0|                    LS|                  21.0|      70|       89|              89|           78|     90|       80|   77|               76|          52|          82|          75|          76|     77|       91|     59|        87|     88|     92|      78|        79|        84|           48|         93|    77|       85|       82|     52|             45|            39|       12|          5|        13|            13|         10|             #Engine|Beat Offside Trap...|85+3|85+3|85+3|81+3|83+3|83+3|83+3|81+3|80+3|80+3|80+3|79+3|75+3|75+3|75+3|79+3|67+3|65+3|65+3|65+3|67+3|65+3|63+3|63+3|63+3|65+3|\n",
            "|189511|Sergio Busquets|Sergio Busquets i...|1988-07-16| 30|   187.96|      76.2|   CDM,CM|      Spain|            89|       89|    5.15E7| 315000.0|         Right|                            4|             3|               3|Medium/ Medium|               Lean|             1.056E8|       FC Barcelona|       86.0|          CDM|               5.0|    2008-09-01|             2023|        Spain|           85.0|                   CDM|                   5.0|      62|       67|              68|           89|     44|       80|   66|               68|          82|          88|          50|          52|     66|       87|     52|        61|     66|     86|      77|        54|        85|           87|         77|    87|       60|       93|     90|             86|            80|        5|          8|        13|             9|         13|#Playmaker  ,#Tac...|                null|71+3|71+3|71+3|74+3|76+3|76+3|76+3|74+3|79+3|79+3|79+3|76+3|83+3|83+3|83+3|76+3|79+3|86+3|86+3|86+3|79+3|78+3|82+3|82+3|82+3|78+3|\n",
            "|192119|    T. Courtois|    Thibaut Courtois|1992-05-11| 26|   198.12|      96.2|       GK|    Belgium|            89|       90|    5.35E7| 240000.0|          Left|                            4|             2|               1|Medium/ Medium|           Courtois|             1.137E8|        Real Madrid|       86.0|           GK|              25.0|    2018-08-09|             2024|      Belgium|           85.0|                    GK|                   1.0|      14|       14|              13|           33|     12|       13|   19|               20|          35|          23|          46|          52|     61|       84|     45|        36|     68|     38|      70|        17|        23|           15|         13|    44|       27|       66|     20|             18|            16|       85|         91|        72|            86|         88|                null|GK Long Throw,Com...|null|null|null|null|null|null|null|null|null|null|null|null|null|null|null|null|null|null|null|null|null|null|null|null|null|null|\n",
            "|192448|  M. ter Stegen|Marc-André ter St...|1992-04-30| 26|   187.96|      84.8|       GK|    Germany|            89|       92|     5.8E7| 240000.0|         Right|                            3|             4|               1|Medium/ Medium|             Normal|             1.233E8|       FC Barcelona|       86.0|           GK|               1.0|    2014-07-01|             2022|      Germany|           85.0|                   SUB|                  22.0|      18|       14|              11|           42|     14|       17|   18|               12|          47|          18|          38|          50|     37|       86|     43|        22|     79|     35|      78|        10|        43|           22|         11|    70|       25|       70|     25|             13|            10|       87|         85|        88|            86|         90|                null|Rushes Out Of Goa...|null|null|null|null|null|null|null|null|null|null|null|null|null|null|null|null|null|null|null|null|null|null|null|null|null|null|\n",
            "|194765|   A. Griezmann|   Antoine Griezmann|1991-03-21| 27|   175.26|      73.0|    CF,ST|     France|            89|       90|     7.8E7| 145000.0|          Left|                            4|             3|               4|    High/ High|               Lean|             1.658E8|    Atlético Madrid|       84.0|           RS|               7.0|    2014-07-28|             2023|       France|           84.0|                   CAM|                   7.0|      82|       89|              84|           84|     87|       87|   86|               84|          78|          90|          88|          85|     90|       90|     82|        82|     90|     86|      62|        82|        73|           49|         91|    85|       83|       89|     59|             54|            48|       14|          8|        14|            13|         14|#Dribbler,#Engine...|Beat Offside Trap...|86+3|86+3|86+3|87+3|87+3|87+3|87+3|87+3|86+3|86+3|86+3|86+3|82+3|82+3|82+3|86+3|72+3|70+3|70+3|70+3|72+3|70+3|65+3|65+3|65+3|70+3|\n",
            "|209331|       M. Salah|Mohamed  Salah Ghaly|1992-06-15| 26|   175.26|      71.2|    RW,ST|      Egypt|            89|       90|    7.85E7| 265000.0|          Left|                            3|             3|               4|  High/ Medium|PLAYER_BODY_TYPE_25|             1.511E8|          Liverpool|       83.0|           ST|              11.0|    2017-07-01|             2023|        Egypt|           73.0|                    RM|                  10.0|      78|       90|              59|           83|     76|       89|   83|               60|          74|          88|          94|          91|     91|       92|     88|        80|     68|     84|      70|        83|        63|           55|         92|    84|       75|       91|     38|             43|            41|       14|         14|         9|            11|         14|#Speedster,#Dribb...|Diver,Beat Offsid...|84+3|84+3|84+3|87+3|87+3|87+3|87+3|87+3|87+3|87+3|87+3|86+3|81+3|81+3|81+3|86+3|70+3|66+3|66+3|66+3|70+3|66+3|57+3|57+3|57+3|66+3|\n",
            "|211110|      P. Dybala|Paulo Bruno Exequ...|1993-11-15| 25|    152.4|      74.8|   CAM,RW|  Argentina|            89|       94|     8.9E7| 205000.0|          Left|                            3|             3|               4|Medium/ Medium|             Normal|             1.535E8|           Juventus|       85.0|           RW|              10.0|    2015-07-01|             2022|    Argentina|           82.0|                    LF|                  21.0|      82|       84|              68|           87|     88|       92|   88|               88|          75|          92|          87|          83|     91|       86|     85|        82|     75|     80|      65|        88|        48|           32|         84|    87|       86|       84|     23|             20|            20|        5|          4|         4|             5|          8|#Dribbler,#Playma...|Avoids Using Weak...|83+3|83+3|83+3|87+3|86+3|86+3|86+3|87+3|87+3|87+3|87+3|86+3|79+3|79+3|79+3|86+3|62+3|58+3|58+3|58+3|62+3|56+3|45+3|45+3|45+3|56+3|\n",
            "|232363|    M. Škriniar|      Milan Škriniar|1995-02-11| 24|   187.96|      79.8|       CB|   Slovakia|            86|       93|    5.35E7|  89000.0|         Right|                            1|             4|               2|  Medium/ High|             Normal|             1.017E8|              Inter|       82.0|          LCB|              37.0|    2017-07-07|             2022|         null|           null|                  null|                  null|      40|       42|              82|           73|     40|       59|   34|               30|          69|          67|          70|          73|     48|       83|     51|        50|     78|     77|      85|        30|        86|           86|         30|    57|       56|       81|     92|             89|            84|       10|         13|        12|             8|         12|         #Tactician |        Power Header|58+2|58+2|58+2|57+2|57+2|57+2|57+2|57+2|59+2|59+2|59+2|60+2|66+2|66+2|66+2|60+2|74+2|79+2|79+2|79+2|74+2|77+2|84+2|84+2|84+2|77+2|\n",
            "|135507|    Fernandinho|  Fernando Luiz Rosa|1985-05-04| 33|    152.4|      67.1|      CDM|     Brazil|            87|       87|    2.05E7| 200000.0|         Right|                            3|             4|               3|  Medium/ High|               Lean|              3.79E7|    Manchester City|       85.0|          CDM|              25.0|    2013-07-01|             2020|         null|           null|                  null|                  null|      68|       69|              66|           85|     74|       77|   70|               72|          83|          82|          68|          67|     72|       89|     78|        83|     78|     84|      76|        78|        87|           89|         70|    75|       61|       79|     87|             86|            80|       12|         11|         5|            13|          7|         #Tactician |Long Shot Taker (...|75+3|75+3|75+3|75+3|76+3|76+3|76+3|75+3|77+3|77+3|77+3|76+3|81+3|81+3|81+3|76+3|81+3|84+3|84+3|84+3|81+3|80+3|82+3|82+3|82+3|80+3|\n",
            "|167664|     G. Higuaín|Gonzalo Gerardo H...|1987-12-10| 31|   185.42|      88.9|       ST|  Argentina|            87|       87|    4.85E7| 205000.0|         Right|                            4|             4|               3|  High/ Medium|             Normal|                null|            Chelsea|       83.0|           ST|               9.0|          null|     Jun 30, 2019|         null|           null|                  null|                  null|      68|       91|              79|           74|     88|       83|   74|               62|          59|          84|          70|          72|     75|       86|     69|        86|     79|     70|      85|        80|        50|           20|         92|    74|       70|       86|     35|             22|            18|        5|         12|         7|             5|         10|  #Clinical Finisher|Outside Foot Shot...|84+3|84+3|84+3|80+3|82+3|82+3|82+3|80+3|79+3|79+3|79+3|78+3|71+3|71+3|71+3|78+3|55+3|53+3|53+3|53+3|55+3|51+3|48+3|48+3|48+3|51+3|\n",
            "|168651|     I. Rakitić|        Ivan Rakitić|1988-03-10| 30|   182.88|      78.0|   CM,CDM|    Croatia|            87|       87|    4.65E7| 260000.0|         Right|                            4|             4|               3|  Medium/ High|               Lean|              9.53E7|       FC Barcelona|       86.0|          LCM|               4.0|    2014-07-01|             2021|         null|           null|                  null|                  null|      84|       79|              59|           87|     84|       82|   88|               82|          90|          85|          66|          62|     73|       80|     66|        84|     39|     83|      71|        87|        67|           81|         80|    86|       82|       86|     76|             75|            73|       14|         11|        12|             5|          9|        #Playmaker  |Injury Free,Long ...|77+3|77+3|77+3|80+3|80+3|80+3|80+3|80+3|82+3|82+3|82+3|81+3|84+3|84+3|84+3|81+3|78+3|80+3|80+3|80+3|78+3|76+3|73+3|73+3|73+3|76+3|\n",
            "+------+---------------+--------------------+----------+---+---------+----------+---------+-----------+--------------+---------+----------+---------+--------------+-----------------------------+--------------+----------------+--------------+-------------------+--------------------+-------------------+-----------+-------------+------------------+--------------+-----------------+-------------+---------------+----------------------+----------------------+--------+---------+----------------+-------------+-------+---------+-----+-----------------+------------+------------+------------+------------+-------+---------+-------+----------+-------+-------+--------+----------+----------+-------------+-----------+------+---------+---------+-------+---------------+--------------+---------+-----------+----------+--------------+-----------+--------------------+--------------------+----+----+----+----+----+----+----+----+----+----+----+----+----+----+----+----+----+----+----+----+----+----+----+----+----+----+\n",
            "only showing top 20 rows\n",
            "\n"
          ],
          "name": "stdout"
        }
      ]
    },
    {
      "cell_type": "code",
      "metadata": {
        "colab": {
          "base_uri": "https://localhost:8080/"
        },
        "id": "mSXcakWfMutY",
        "outputId": "309026a5-5d45-462a-849c-95dd09ae32ae"
      },
      "source": [
        "df.printSchema()"
      ],
      "execution_count": 5,
      "outputs": [
        {
          "output_type": "stream",
          "text": [
            "root\n",
            " |-- id: integer (nullable = true)\n",
            " |-- name: string (nullable = true)\n",
            " |-- full_name: string (nullable = true)\n",
            " |-- birth_date: string (nullable = true)\n",
            " |-- age: integer (nullable = true)\n",
            " |-- height_cm: double (nullable = true)\n",
            " |-- weight_kgs: double (nullable = true)\n",
            " |-- positions: string (nullable = true)\n",
            " |-- nationality: string (nullable = true)\n",
            " |-- overall_rating: integer (nullable = true)\n",
            " |-- potential: integer (nullable = true)\n",
            " |-- value_euro: double (nullable = true)\n",
            " |-- wage_euro: double (nullable = true)\n",
            " |-- preferred_foot: string (nullable = true)\n",
            " |-- international_reputation(1-5): integer (nullable = true)\n",
            " |-- weak_foot(1-5): integer (nullable = true)\n",
            " |-- skill_moves(1-5): integer (nullable = true)\n",
            " |-- work_rate: string (nullable = true)\n",
            " |-- body_type: string (nullable = true)\n",
            " |-- release_clause_euro: double (nullable = true)\n",
            " |-- club_team: string (nullable = true)\n",
            " |-- club_rating: double (nullable = true)\n",
            " |-- club_position: string (nullable = true)\n",
            " |-- club_jersey_number: double (nullable = true)\n",
            " |-- club_join_date: string (nullable = true)\n",
            " |-- contract_end_year: string (nullable = true)\n",
            " |-- national_team: string (nullable = true)\n",
            " |-- national_rating: double (nullable = true)\n",
            " |-- national_team_position: string (nullable = true)\n",
            " |-- national_jersey_number: double (nullable = true)\n",
            " |-- crossing: integer (nullable = true)\n",
            " |-- finishing: integer (nullable = true)\n",
            " |-- heading_accuracy: integer (nullable = true)\n",
            " |-- short_passing: integer (nullable = true)\n",
            " |-- volleys: integer (nullable = true)\n",
            " |-- dribbling: integer (nullable = true)\n",
            " |-- curve: integer (nullable = true)\n",
            " |-- freekick_accuracy: integer (nullable = true)\n",
            " |-- long_passing: integer (nullable = true)\n",
            " |-- ball_control: integer (nullable = true)\n",
            " |-- acceleration: integer (nullable = true)\n",
            " |-- sprint_speed: integer (nullable = true)\n",
            " |-- agility: integer (nullable = true)\n",
            " |-- reactions: integer (nullable = true)\n",
            " |-- balance: integer (nullable = true)\n",
            " |-- shot_power: integer (nullable = true)\n",
            " |-- jumping: integer (nullable = true)\n",
            " |-- stamina: integer (nullable = true)\n",
            " |-- strength: integer (nullable = true)\n",
            " |-- long_shots: integer (nullable = true)\n",
            " |-- aggression: integer (nullable = true)\n",
            " |-- interceptions: integer (nullable = true)\n",
            " |-- positioning: integer (nullable = true)\n",
            " |-- vision: integer (nullable = true)\n",
            " |-- penalties: integer (nullable = true)\n",
            " |-- composure: integer (nullable = true)\n",
            " |-- marking: integer (nullable = true)\n",
            " |-- standing_tackle: integer (nullable = true)\n",
            " |-- sliding_tackle: integer (nullable = true)\n",
            " |-- GK_diving: integer (nullable = true)\n",
            " |-- GK_handling: integer (nullable = true)\n",
            " |-- GK_kicking: integer (nullable = true)\n",
            " |-- GK_positioning: integer (nullable = true)\n",
            " |-- GK_reflexes: integer (nullable = true)\n",
            " |-- tags: string (nullable = true)\n",
            " |-- traits: string (nullable = true)\n",
            " |-- LS: string (nullable = true)\n",
            " |-- ST: string (nullable = true)\n",
            " |-- RS: string (nullable = true)\n",
            " |-- LW: string (nullable = true)\n",
            " |-- LF: string (nullable = true)\n",
            " |-- CF: string (nullable = true)\n",
            " |-- RF: string (nullable = true)\n",
            " |-- RW: string (nullable = true)\n",
            " |-- LAM: string (nullable = true)\n",
            " |-- CAM: string (nullable = true)\n",
            " |-- RAM: string (nullable = true)\n",
            " |-- LM: string (nullable = true)\n",
            " |-- LCM: string (nullable = true)\n",
            " |-- CM: string (nullable = true)\n",
            " |-- RCM: string (nullable = true)\n",
            " |-- RM: string (nullable = true)\n",
            " |-- LWB: string (nullable = true)\n",
            " |-- LDM: string (nullable = true)\n",
            " |-- CDM: string (nullable = true)\n",
            " |-- RDM: string (nullable = true)\n",
            " |-- RWB: string (nullable = true)\n",
            " |-- LB: string (nullable = true)\n",
            " |-- LCB: string (nullable = true)\n",
            " |-- CB: string (nullable = true)\n",
            " |-- RCB: string (nullable = true)\n",
            " |-- RB: string (nullable = true)\n",
            "\n"
          ],
          "name": "stdout"
        }
      ]
    },
    {
      "cell_type": "code",
      "metadata": {
        "colab": {
          "base_uri": "https://localhost:8080/"
        },
        "id": "i2S60TAPMwsu",
        "outputId": "14fa6528-bba1-4c36-f654-0eccf0e2e2fb"
      },
      "source": [
        "print(df.columns) # Column Names\n",
        "print(df.count()) # Row Count\n",
        "len(df.columns)"
      ],
      "execution_count": 6,
      "outputs": [
        {
          "output_type": "stream",
          "text": [
            "['id', 'name', 'full_name', 'birth_date', 'age', 'height_cm', 'weight_kgs', 'positions', 'nationality', 'overall_rating', 'potential', 'value_euro', 'wage_euro', 'preferred_foot', 'international_reputation(1-5)', 'weak_foot(1-5)', 'skill_moves(1-5)', 'work_rate', 'body_type', 'release_clause_euro', 'club_team', 'club_rating', 'club_position', 'club_jersey_number', 'club_join_date', 'contract_end_year', 'national_team', 'national_rating', 'national_team_position', 'national_jersey_number', 'crossing', 'finishing', 'heading_accuracy', 'short_passing', 'volleys', 'dribbling', 'curve', 'freekick_accuracy', 'long_passing', 'ball_control', 'acceleration', 'sprint_speed', 'agility', 'reactions', 'balance', 'shot_power', 'jumping', 'stamina', 'strength', 'long_shots', 'aggression', 'interceptions', 'positioning', 'vision', 'penalties', 'composure', 'marking', 'standing_tackle', 'sliding_tackle', 'GK_diving', 'GK_handling', 'GK_kicking', 'GK_positioning', 'GK_reflexes', 'tags', 'traits', 'LS', 'ST', 'RS', 'LW', 'LF', 'CF', 'RF', 'RW', 'LAM', 'CAM', 'RAM', 'LM', 'LCM', 'CM', 'RCM', 'RM', 'LWB', 'LDM', 'CDM', 'RDM', 'RWB', 'LB', 'LCB', 'CB', 'RCB', 'RB']\n",
            "17954\n"
          ],
          "name": "stdout"
        },
        {
          "output_type": "execute_result",
          "data": {
            "text/plain": [
              "92"
            ]
          },
          "metadata": {
            "tags": []
          },
          "execution_count": 6
        }
      ]
    },
    {
      "cell_type": "code",
      "metadata": {
        "colab": {
          "base_uri": "https://localhost:8080/"
        },
        "id": "6wzth0VNMx4u",
        "outputId": "7bf3d455-e30d-40c9-97f9-c784e960bc85"
      },
      "source": [
        "df.describe('nationality').show()\n",
        "df.describe('age').show()"
      ],
      "execution_count": 7,
      "outputs": [
        {
          "output_type": "stream",
          "text": [
            "+-------+-----------+\n",
            "|summary|nationality|\n",
            "+-------+-----------+\n",
            "|  count|      17954|\n",
            "|   mean|       null|\n",
            "| stddev|       null|\n",
            "|    min|Afghanistan|\n",
            "|    max|   Zimbabwe|\n",
            "+-------+-----------+\n",
            "\n",
            "+-------+-----------------+\n",
            "|summary|              age|\n",
            "+-------+-----------------+\n",
            "|  count|            17954|\n",
            "|   mean|25.56544502617801|\n",
            "| stddev|4.705707854152883|\n",
            "|    min|               17|\n",
            "|    max|               46|\n",
            "+-------+-----------------+\n",
            "\n"
          ],
          "name": "stdout"
        }
      ]
    },
    {
      "cell_type": "code",
      "metadata": {
        "colab": {
          "base_uri": "https://localhost:8080/"
        },
        "id": "qrCZKar7M8Mw",
        "outputId": "3ce97592-4888-4591-bb14-b8896e9e1e51"
      },
      "source": [
        "df.select('name','international_reputation(1-5)').show()"
      ],
      "execution_count": 8,
      "outputs": [
        {
          "output_type": "stream",
          "text": [
            "+---------------+-----------------------------+\n",
            "|           name|international_reputation(1-5)|\n",
            "+---------------+-----------------------------+\n",
            "|       L. Messi|                            5|\n",
            "|     C. Eriksen|                            3|\n",
            "|       P. Pogba|                            4|\n",
            "|     L. Insigne|                            3|\n",
            "|   K. Koulibaly|                            3|\n",
            "|    V. van Dijk|                            3|\n",
            "|      K. Mbappé|                            3|\n",
            "|      S. Agüero|                            4|\n",
            "|       M. Neuer|                            5|\n",
            "|      E. Cavani|                            4|\n",
            "|Sergio Busquets|                            4|\n",
            "|    T. Courtois|                            4|\n",
            "|  M. ter Stegen|                            3|\n",
            "|   A. Griezmann|                            4|\n",
            "|       M. Salah|                            3|\n",
            "|      P. Dybala|                            3|\n",
            "|    M. Škriniar|                            1|\n",
            "|    Fernandinho|                            3|\n",
            "|     G. Higuaín|                            4|\n",
            "|     I. Rakitić|                            4|\n",
            "+---------------+-----------------------------+\n",
            "only showing top 20 rows\n",
            "\n"
          ],
          "name": "stdout"
        }
      ]
    }
  ]
}