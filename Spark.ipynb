{
  "nbformat": 4,
  "nbformat_minor": 0,
  "metadata": {
    "colab": {
      "name": "Spark.ipynb",
      "provenance": [],
      "collapsed_sections": [],
      "authorship_tag": "ABX9TyNsta46L7V8Z+nZ3MhaP7sa",
      "include_colab_link": true
    },
    "kernelspec": {
      "name": "python3",
      "display_name": "Python 3"
    },
    "language_info": {
      "name": "python"
    }
  },
  "cells": [
    {
      "cell_type": "markdown",
      "metadata": {
        "id": "view-in-github",
        "colab_type": "text"
      },
      "source": [
        "<a href=\"https://colab.research.google.com/github/thehaoag/BigData/blob/main/Spark.ipynb\" target=\"_parent\"><img src=\"https://colab.research.google.com/assets/colab-badge.svg\" alt=\"Open In Colab\"/></a>"
      ]
    },
    {
      "cell_type": "code",
      "metadata": {
        "colab": {
          "base_uri": "https://localhost:8080/"
        },
        "id": "qnhph-noCnuV",
        "outputId": "b3cbc863-f90a-4f4f-de46-a5e5e86222dd"
      },
      "source": [
        "pip install pyspark"
      ],
      "execution_count": 1,
      "outputs": [
        {
          "output_type": "stream",
          "text": [
            "Collecting pyspark\n",
            "\u001b[?25l  Downloading https://files.pythonhosted.org/packages/45/b0/9d6860891ab14a39d4bddf80ba26ce51c2f9dc4805e5c6978ac0472c120a/pyspark-3.1.1.tar.gz (212.3MB)\n",
            "\u001b[K     |████████████████████████████████| 212.3MB 66kB/s \n",
            "\u001b[?25hCollecting py4j==0.10.9\n",
            "\u001b[?25l  Downloading https://files.pythonhosted.org/packages/9e/b6/6a4fb90cd235dc8e265a6a2067f2a2c99f0d91787f06aca4bcf7c23f3f80/py4j-0.10.9-py2.py3-none-any.whl (198kB)\n",
            "\u001b[K     |████████████████████████████████| 204kB 32.6MB/s \n",
            "\u001b[?25hBuilding wheels for collected packages: pyspark\n",
            "  Building wheel for pyspark (setup.py) ... \u001b[?25l\u001b[?25hdone\n",
            "  Created wheel for pyspark: filename=pyspark-3.1.1-py2.py3-none-any.whl size=212767604 sha256=455d5327012a70e5b4769099ae47db2e1b1e9e53e31bdce1ae4368038c9fec7d\n",
            "  Stored in directory: /root/.cache/pip/wheels/0b/90/c0/01de724414ef122bd05f056541fb6a0ecf47c7ca655f8b3c0f\n",
            "Successfully built pyspark\n",
            "Installing collected packages: py4j, pyspark\n",
            "Successfully installed py4j-0.10.9 pyspark-3.1.1\n"
          ],
          "name": "stdout"
        }
      ]
    },
    {
      "cell_type": "markdown",
      "metadata": {
        "id": "KhBh7NoyCssr"
      },
      "source": [
        "# SPARK RDD"
      ]
    },
    {
      "cell_type": "code",
      "metadata": {
        "colab": {
          "base_uri": "https://localhost:8080/"
        },
        "id": "UrR51iYMCtz1",
        "outputId": "889b3c08-f077-4e03-b726-21cd887db75a"
      },
      "source": [
        "import pyspark\n",
        "from pyspark import SparkConf, SparkContext\n",
        "from pyspark.sql import SparkSession\n",
        "from google.colab import drive\n",
        "drive.mount('/content/drive')\n",
        "import collections\n",
        "conf = SparkConf().setMaster(\"local\").setAppName(\"count\")\n",
        "sc = SparkContext.getOrCreate(conf=conf)"
      ],
      "execution_count": 2,
      "outputs": [
        {
          "output_type": "stream",
          "text": [
            "Mounted at /content/drive\n"
          ],
          "name": "stdout"
        }
      ]
    },
    {
      "cell_type": "code",
      "metadata": {
        "colab": {
          "base_uri": "https://localhost:8080/"
        },
        "id": "2zC1iVK8C5QB",
        "outputId": "8657bddb-accb-47ca-9cae-bcb67e4e59d1"
      },
      "source": [
        "text_file = sc.textFile(\"drive/MyDrive/BigData/content.txt\")\n",
        "# Print in the first of the file\n",
        "print(text_file.first())"
      ],
      "execution_count": 3,
      "outputs": [
        {
          "output_type": "stream",
          "text": [
            "Two security guards at the Beika Art Museum see a medieval suit of armor moving on its own. Ran hears the rumor and wants to visit the museum; when Conan and Kogoro mock her for believing it might be true, she quickly forced them to come along after a fearsome display of her karate skills smashing in a storage locker. While admiring a painting, Ran meets Ochiai, the curator of the museum, who explains his love for the art and then berates a museum worker named Kubota for not handling a painting properly. Another worker, Iijima, takes over the job before they are interrupted by the museum's new owner, Manaka, arriving with an architect. The museum will be demolished soon to make a hotel, despite the sale having hinged on the promise to keep the museum open. After Kubota accidentally drops a helmet, Manaka mentions his plans to sell all the museum pieces, which frustrates Kubota enough to throw it down after â€” but Conan notices that Ochiai doesn't lecture Kubota this time. Conan, Kogoro and Ran visit the rest of the museum. As they are about to leave, Ran notices a previously closed gallery has reopened and convinces the other two to come along. In the \"Hell Gallery\" they first see a large painting of a knight having stabbed a demon in the name of justice. Ran then hears a dripping sound and turns to find that Manaka has been pinned to the opposite wall by a sword through the throat. Inspector Megure arrives to investigate, and he, Kogoro, and Conan check the surveillance cameras to see if the culprit was recorded. However, the murderer had been lying in wait in the guise of a knight's suit of armor. The surveillance camera caught all of Manaka's brutal murder, multiple stabbings ending with him pinned to the wall and the knight walking away, towards the camera â€” exactly like, Kogoro and Conan realize, the painting in the gallery. Because the gallery was blocked off at 4 p.m. but re-opened by 5 p.m., and the video timestamps set the murder at about 4:30 p.m., Inspector Megure deduces that the murderer must be a museum worker. Conan also notices that Manaka tried to write something on a piece of paper between the first attack and his death; while he threw the pen away, the paper remains crumpled in his hand, and names Kubota as the killer. Kubota has no alibi as Ochiai had him doing a task in the office, where he was alone. He has motive because, as Iijima reveals, the owner wanted Kubota to repay the money he'd made selling pieces off secretly. Conan finds a pen on the ground, which anyone in the museum could have forgotten on the table. It matches the video image and has ink, so Inspector Megure concludes that it was the pen Manaka used. Kubota is detained as they wait for the suit of armor to be found. Conan is unsatisfied with Kubota's apparent carelessness and why he would mirror a painting when he has no great love for art. He's also not so sure if he's really the suspect. Conan convinces the police officers to let him watch the surveillance footage one more time. He notices that Manaka looks shocked when he sees the paper he writes on, and realizes that the pen Conan found had its point retracted, when there wouldn't have been reason or time for Manaka to retract it before throwing it away. Conan tricks his way into re-examining the dying message, and finds inkless scribbles over the original writing. The police find the armor in Kubota's locker, but Conan has figured out the truth and knows the murderer's trick. As Conan reviews what he knows, he remembers that according to Gin, the bomb isn't a time-bomb but will be sure to be triggered by the suspect accidentally. The salaryman has a laptop, the businesswoman has a cellular phone, and the elderly man has a walkman, but Conan can't deduce what will trigger the bomb without further investigation. However, Ran isn't about to let him out of her sight again after how he's been \"misbehaving\". Desperate, Conan realizes that the only way for Ran to believe him about the seriousness of the bomb threat is if he reveals his identity as Shinichi first. If his identity gets out, Ran will become a target, but if the train explodes they'll be dead anyway. Conan drops his childish masks and apologizes for hiding his true identity; however, before he can reveal that he is Shinichi, a child across the aisle complains about not being able to see the ocean from the mountain-view side of the car. he group has ran a long way and they still haven't seen the fifth symbol. The word, \"Oro\" is Italian so an Italian must have wrote this map. Conan knows he's made a mistake and tells the group they have to go back to the beginning and start over. Why didn't the writer just write the whole thing in Italian instead of drawing all those symbols. The Moon must have it's own meaning. Maybe the symbols are something you can only see after it's dark. Most of the symbols must represent Neon Signs! They find all the Neon Signs but struggle to find the last one - the fish shape! Mitsuhiko explains that although they're in a downtown area, a river runs through not too far from there. Conan realizes that because all of the signs are Neon Lights the Italian Person must've seen a Neon Fish Sign, not an actual fish.\n"
          ],
          "name": "stdout"
        }
      ]
    },
    {
      "cell_type": "code",
      "metadata": {
        "colab": {
          "base_uri": "https://localhost:8080/"
        },
        "id": "I2stQp_mD1-6",
        "outputId": "1db41511-b6ea-4197-ad98-c29becfdcffd"
      },
      "source": [
        "array_text = text_file.first().split(\" \")\n",
        "array_text = [x.replace(\",\",\"\").replace(\".\",\"\").lower() for x in array_text if x.isalnum()]\n",
        "rdd = sc.parallelize(array_text)\n",
        "# tuple\n",
        "key = rdd.map(lambda word: (word, 1))\n",
        "print(key.collect())"
      ],
      "execution_count": 4,
      "outputs": [
        {
          "output_type": "stream",
          "text": [
            "[('two', 1), ('security', 1), ('guards', 1), ('at', 1), ('the', 1), ('beika', 1), ('art', 1), ('museum', 1), ('see', 1), ('a', 1), ('medieval', 1), ('suit', 1), ('of', 1), ('armor', 1), ('moving', 1), ('on', 1), ('its', 1), ('ran', 1), ('hears', 1), ('the', 1), ('rumor', 1), ('and', 1), ('wants', 1), ('to', 1), ('visit', 1), ('the', 1), ('when', 1), ('conan', 1), ('and', 1), ('kogoro', 1), ('mock', 1), ('her', 1), ('for', 1), ('believing', 1), ('it', 1), ('might', 1), ('be', 1), ('she', 1), ('quickly', 1), ('forced', 1), ('them', 1), ('to', 1), ('come', 1), ('along', 1), ('after', 1), ('a', 1), ('fearsome', 1), ('display', 1), ('of', 1), ('her', 1), ('karate', 1), ('skills', 1), ('smashing', 1), ('in', 1), ('a', 1), ('storage', 1), ('while', 1), ('admiring', 1), ('a', 1), ('ran', 1), ('meets', 1), ('the', 1), ('curator', 1), ('of', 1), ('the', 1), ('who', 1), ('explains', 1), ('his', 1), ('love', 1), ('for', 1), ('the', 1), ('art', 1), ('and', 1), ('then', 1), ('berates', 1), ('a', 1), ('museum', 1), ('worker', 1), ('named', 1), ('kubota', 1), ('for', 1), ('not', 1), ('handling', 1), ('a', 1), ('painting', 1), ('another', 1), ('takes', 1), ('over', 1), ('the', 1), ('job', 1), ('before', 1), ('they', 1), ('are', 1), ('interrupted', 1), ('by', 1), ('the', 1), ('new', 1), ('arriving', 1), ('with', 1), ('an', 1), ('the', 1), ('museum', 1), ('will', 1), ('be', 1), ('demolished', 1), ('soon', 1), ('to', 1), ('make', 1), ('a', 1), ('despite', 1), ('the', 1), ('sale', 1), ('having', 1), ('hinged', 1), ('on', 1), ('the', 1), ('promise', 1), ('to', 1), ('keep', 1), ('the', 1), ('museum', 1), ('after', 1), ('kubota', 1), ('accidentally', 1), ('drops', 1), ('a', 1), ('manaka', 1), ('mentions', 1), ('his', 1), ('plans', 1), ('to', 1), ('sell', 1), ('all', 1), ('the', 1), ('museum', 1), ('which', 1), ('frustrates', 1), ('kubota', 1), ('enough', 1), ('to', 1), ('throw', 1), ('it', 1), ('down', 1), ('after', 1), ('but', 1), ('conan', 1), ('notices', 1), ('that', 1), ('ochiai', 1), ('lecture', 1), ('kubota', 1), ('this', 1), ('kogoro', 1), ('and', 1), ('ran', 1), ('visit', 1), ('the', 1), ('rest', 1), ('of', 1), ('the', 1), ('as', 1), ('they', 1), ('are', 1), ('about', 1), ('to', 1), ('ran', 1), ('notices', 1), ('a', 1), ('previously', 1), ('closed', 1), ('gallery', 1), ('has', 1), ('reopened', 1), ('and', 1), ('convinces', 1), ('the', 1), ('other', 1), ('two', 1), ('to', 1), ('come', 1), ('in', 1), ('the', 1), ('they', 1), ('first', 1), ('see', 1), ('a', 1), ('large', 1), ('painting', 1), ('of', 1), ('a', 1), ('knight', 1), ('having', 1), ('stabbed', 1), ('a', 1), ('demon', 1), ('in', 1), ('the', 1), ('name', 1), ('of', 1), ('ran', 1), ('then', 1), ('hears', 1), ('a', 1), ('dripping', 1), ('sound', 1), ('and', 1), ('turns', 1), ('to', 1), ('find', 1), ('that', 1), ('manaka', 1), ('has', 1), ('been', 1), ('pinned', 1), ('to', 1), ('the', 1), ('opposite', 1), ('wall', 1), ('by', 1), ('a', 1), ('sword', 1), ('through', 1), ('the', 1), ('inspector', 1), ('megure', 1), ('arrives', 1), ('to', 1), ('and', 1), ('and', 1), ('conan', 1), ('check', 1), ('the', 1), ('surveillance', 1), ('cameras', 1), ('to', 1), ('see', 1), ('if', 1), ('the', 1), ('culprit', 1), ('was', 1), ('the', 1), ('murderer', 1), ('had', 1), ('been', 1), ('lying', 1), ('in', 1), ('wait', 1), ('in', 1), ('the', 1), ('guise', 1), ('of', 1), ('a', 1), ('suit', 1), ('of', 1), ('the', 1), ('surveillance', 1), ('camera', 1), ('caught', 1), ('all', 1), ('of', 1), ('brutal', 1), ('multiple', 1), ('stabbings', 1), ('ending', 1), ('with', 1), ('him', 1), ('pinned', 1), ('to', 1), ('the', 1), ('wall', 1), ('and', 1), ('the', 1), ('knight', 1), ('walking', 1), ('towards', 1), ('the', 1), ('camera', 1), ('exactly', 1), ('kogoro', 1), ('and', 1), ('conan', 1), ('the', 1), ('painting', 1), ('in', 1), ('the', 1), ('because', 1), ('the', 1), ('gallery', 1), ('was', 1), ('blocked', 1), ('off', 1), ('at', 1), ('4', 1), ('but', 1), ('by', 1), ('5', 1), ('and', 1), ('the', 1), ('video', 1), ('timestamps', 1), ('set', 1), ('the', 1), ('murder', 1), ('at', 1), ('about', 1), ('inspector', 1), ('megure', 1), ('deduces', 1), ('that', 1), ('the', 1), ('murderer', 1), ('must', 1), ('be', 1), ('a', 1), ('museum', 1), ('conan', 1), ('also', 1), ('notices', 1), ('that', 1), ('manaka', 1), ('tried', 1), ('to', 1), ('write', 1), ('something', 1), ('on', 1), ('a', 1), ('piece', 1), ('of', 1), ('paper', 1), ('between', 1), ('the', 1), ('first', 1), ('attack', 1), ('and', 1), ('his', 1), ('while', 1), ('he', 1), ('threw', 1), ('the', 1), ('pen', 1), ('the', 1), ('paper', 1), ('remains', 1), ('crumpled', 1), ('in', 1), ('his', 1), ('and', 1), ('names', 1), ('kubota', 1), ('as', 1), ('the', 1), ('kubota', 1), ('has', 1), ('no', 1), ('alibi', 1), ('as', 1), ('ochiai', 1), ('had', 1), ('him', 1), ('doing', 1), ('a', 1), ('task', 1), ('in', 1), ('the', 1), ('where', 1), ('he', 1), ('was', 1), ('he', 1), ('has', 1), ('motive', 1), ('as', 1), ('iijima', 1), ('the', 1), ('owner', 1), ('wanted', 1), ('kubota', 1), ('to', 1), ('repay', 1), ('the', 1), ('money', 1), ('made', 1), ('selling', 1), ('pieces', 1), ('off', 1), ('conan', 1), ('finds', 1), ('a', 1), ('pen', 1), ('on', 1), ('the', 1), ('which', 1), ('anyone', 1), ('in', 1), ('the', 1), ('museum', 1), ('could', 1), ('have', 1), ('forgotten', 1), ('on', 1), ('the', 1), ('it', 1), ('matches', 1), ('the', 1), ('video', 1), ('image', 1), ('and', 1), ('has', 1), ('so', 1), ('inspector', 1), ('megure', 1), ('concludes', 1), ('that', 1), ('it', 1), ('was', 1), ('the', 1), ('pen', 1), ('manaka', 1), ('kubota', 1), ('is', 1), ('detained', 1), ('as', 1), ('they', 1), ('wait', 1), ('for', 1), ('the', 1), ('suit', 1), ('of', 1), ('armor', 1), ('to', 1), ('be', 1), ('conan', 1), ('is', 1), ('unsatisfied', 1), ('with', 1), ('apparent', 1), ('carelessness', 1), ('and', 1), ('why', 1), ('he', 1), ('would', 1), ('mirror', 1), ('a', 1), ('painting', 1), ('when', 1), ('he', 1), ('has', 1), ('no', 1), ('great', 1), ('love', 1), ('for', 1), ('also', 1), ('not', 1), ('so', 1), ('sure', 1), ('if', 1), ('really', 1), ('the', 1), ('conan', 1), ('convinces', 1), ('the', 1), ('police', 1), ('officers', 1), ('to', 1), ('let', 1), ('him', 1), ('watch', 1), ('the', 1), ('surveillance', 1), ('footage', 1), ('one', 1), ('more', 1), ('he', 1), ('notices', 1), ('that', 1), ('manaka', 1), ('looks', 1), ('shocked', 1), ('when', 1), ('he', 1), ('sees', 1), ('the', 1), ('paper', 1), ('he', 1), ('writes', 1), ('and', 1), ('realizes', 1), ('that', 1), ('the', 1), ('pen', 1), ('conan', 1), ('found', 1), ('had', 1), ('its', 1), ('point', 1), ('when', 1), ('there', 1), ('have', 1), ('been', 1), ('reason', 1), ('or', 1), ('time', 1), ('for', 1), ('manaka', 1), ('to', 1), ('retract', 1), ('it', 1), ('before', 1), ('throwing', 1), ('it', 1), ('conan', 1), ('tricks', 1), ('his', 1), ('way', 1), ('into', 1), ('the', 1), ('dying', 1), ('and', 1), ('finds', 1), ('inkless', 1), ('scribbles', 1), ('over', 1), ('the', 1), ('original', 1), ('the', 1), ('police', 1), ('find', 1), ('the', 1), ('armor', 1), ('in', 1), ('but', 1), ('conan', 1), ('has', 1), ('figured', 1), ('out', 1), ('the', 1), ('truth', 1), ('and', 1), ('knows', 1), ('the', 1), ('as', 1), ('conan', 1), ('reviews', 1), ('what', 1), ('he', 1), ('he', 1), ('remembers', 1), ('that', 1), ('according', 1), ('to', 1), ('the', 1), ('bomb', 1), ('a', 1), ('but', 1), ('will', 1), ('be', 1), ('sure', 1), ('to', 1), ('be', 1), ('triggered', 1), ('by', 1), ('the', 1), ('suspect', 1), ('the', 1), ('salaryman', 1), ('has', 1), ('a', 1), ('the', 1), ('businesswoman', 1), ('has', 1), ('a', 1), ('cellular', 1), ('and', 1), ('the', 1), ('elderly', 1), ('man', 1), ('has', 1), ('a', 1), ('but', 1), ('conan', 1), ('deduce', 1), ('what', 1), ('will', 1), ('trigger', 1), ('the', 1), ('bomb', 1), ('without', 1), ('further', 1), ('ran', 1), ('about', 1), ('to', 1), ('let', 1), ('him', 1), ('out', 1), ('of', 1), ('her', 1), ('sight', 1), ('again', 1), ('after', 1), ('how', 1), ('been', 1), ('conan', 1), ('realizes', 1), ('that', 1), ('the', 1), ('only', 1), ('way', 1), ('for', 1), ('ran', 1), ('to', 1), ('believe', 1), ('him', 1), ('about', 1), ('the', 1), ('seriousness', 1), ('of', 1), ('the', 1), ('bomb', 1), ('threat', 1), ('is', 1), ('if', 1), ('he', 1), ('reveals', 1), ('his', 1), ('identity', 1), ('as', 1), ('shinichi', 1), ('if', 1), ('his', 1), ('identity', 1), ('gets', 1), ('ran', 1), ('will', 1), ('become', 1), ('a', 1), ('but', 1), ('if', 1), ('the', 1), ('train', 1), ('explodes', 1), ('be', 1), ('dead', 1), ('conan', 1), ('drops', 1), ('his', 1), ('childish', 1), ('masks', 1), ('and', 1), ('apologizes', 1), ('for', 1), ('hiding', 1), ('his', 1), ('true', 1), ('before', 1), ('he', 1), ('can', 1), ('reveal', 1), ('that', 1), ('he', 1), ('is', 1), ('a', 1), ('child', 1), ('across', 1), ('the', 1), ('aisle', 1), ('complains', 1), ('about', 1), ('not', 1), ('being', 1), ('able', 1), ('to', 1), ('see', 1), ('the', 1), ('ocean', 1), ('from', 1), ('the', 1), ('side', 1), ('of', 1), ('the', 1), ('he', 1), ('group', 1), ('has', 1), ('ran', 1), ('a', 1), ('long', 1), ('way', 1), ('and', 1), ('they', 1), ('still', 1), ('seen', 1), ('the', 1), ('fifth', 1), ('the', 1), ('is', 1), ('italian', 1), ('so', 1), ('an', 1), ('italian', 1), ('must', 1), ('have', 1), ('wrote', 1), ('this', 1), ('conan', 1), ('knows', 1), ('made', 1), ('a', 1), ('mistake', 1), ('and', 1), ('tells', 1), ('the', 1), ('group', 1), ('they', 1), ('have', 1), ('to', 1), ('go', 1), ('back', 1), ('to', 1), ('the', 1), ('beginning', 1), ('and', 1), ('start', 1), ('why', 1), ('the', 1), ('writer', 1), ('just', 1), ('write', 1), ('the', 1), ('whole', 1), ('thing', 1), ('in', 1), ('italian', 1), ('instead', 1), ('of', 1), ('drawing', 1), ('all', 1), ('those', 1), ('the', 1), ('moon', 1), ('must', 1), ('have', 1), ('own', 1), ('maybe', 1), ('the', 1), ('symbols', 1), ('are', 1), ('something', 1), ('you', 1), ('can', 1), ('only', 1), ('see', 1), ('after', 1), ('most', 1), ('of', 1), ('the', 1), ('symbols', 1), ('must', 1), ('represent', 1), ('neon', 1), ('they', 1), ('find', 1), ('all', 1), ('the', 1), ('neon', 1), ('signs', 1), ('but', 1), ('struggle', 1), ('to', 1), ('find', 1), ('the', 1), ('last', 1), ('one', 1), ('the', 1), ('fish', 1), ('mitsuhiko', 1), ('explains', 1), ('that', 1), ('although', 1), ('in', 1), ('a', 1), ('downtown', 1), ('a', 1), ('river', 1), ('runs', 1), ('through', 1), ('not', 1), ('too', 1), ('far', 1), ('from', 1), ('conan', 1), ('realizes', 1), ('that', 1), ('because', 1), ('all', 1), ('of', 1), ('the', 1), ('signs', 1), ('are', 1), ('neon', 1), ('lights', 1), ('the', 1), ('italian', 1), ('person', 1), ('seen', 1), ('a', 1), ('neon', 1), ('fish', 1), ('not', 1), ('an', 1), ('actual', 1)]\n"
          ],
          "name": "stdout"
        }
      ]
    },
    {
      "cell_type": "code",
      "metadata": {
        "colab": {
          "base_uri": "https://localhost:8080/"
        },
        "id": "9ewXboWaD3iA",
        "outputId": "93a88434-8118-432f-8127-05946a20b031"
      },
      "source": [
        "print(\"length of text file:\",len(array_text))"
      ],
      "execution_count": 5,
      "outputs": [
        {
          "output_type": "stream",
          "text": [
            "length of text file: 808\n"
          ],
          "name": "stdout"
        }
      ]
    },
    {
      "cell_type": "code",
      "metadata": {
        "colab": {
          "base_uri": "https://localhost:8080/"
        },
        "id": "xc-dEci1D4zr",
        "outputId": "d3bcef5c-b18c-4233-e609-83a01a363e10"
      },
      "source": [
        "# count word\n",
        "counts = key.reduceByKey(lambda x, y: x + y)\n",
        "print(counts.collect())"
      ],
      "execution_count": 6,
      "outputs": [
        {
          "output_type": "stream",
          "text": [
            "[('two', 2), ('security', 1), ('guards', 1), ('at', 3), ('the', 86), ('beika', 1), ('art', 2), ('museum', 7), ('see', 5), ('a', 31), ('medieval', 1), ('suit', 3), ('of', 17), ('armor', 3), ('moving', 1), ('on', 5), ('its', 2), ('ran', 9), ('hears', 2), ('rumor', 1), ('and', 23), ('wants', 1), ('to', 26), ('visit', 2), ('when', 4), ('conan', 17), ('kogoro', 3), ('mock', 1), ('her', 3), ('for', 8), ('believing', 1), ('it', 6), ('might', 1), ('be', 7), ('she', 1), ('quickly', 1), ('forced', 1), ('them', 1), ('come', 2), ('along', 1), ('after', 5), ('fearsome', 1), ('display', 1), ('karate', 1), ('skills', 1), ('smashing', 1), ('in', 12), ('storage', 1), ('while', 2), ('admiring', 1), ('meets', 1), ('curator', 1), ('who', 1), ('explains', 2), ('his', 9), ('love', 2), ('then', 2), ('berates', 1), ('worker', 1), ('named', 1), ('kubota', 8), ('not', 5), ('handling', 1), ('painting', 4), ('another', 1), ('takes', 1), ('over', 2), ('job', 1), ('before', 3), ('they', 7), ('are', 4), ('interrupted', 1), ('by', 4), ('new', 1), ('arriving', 1), ('with', 3), ('an', 3), ('will', 4), ('demolished', 1), ('soon', 1), ('make', 1), ('despite', 1), ('sale', 1), ('having', 2), ('hinged', 1), ('promise', 1), ('keep', 1), ('accidentally', 1), ('drops', 2), ('manaka', 6), ('mentions', 1), ('plans', 1), ('sell', 1), ('all', 5), ('which', 2), ('frustrates', 1), ('enough', 1), ('throw', 1), ('down', 1), ('but', 7), ('notices', 4), ('that', 12), ('ochiai', 2), ('lecture', 1), ('this', 2), ('rest', 1), ('as', 7), ('about', 5), ('previously', 1), ('closed', 1), ('gallery', 2), ('has', 11), ('reopened', 1), ('convinces', 2), ('other', 1), ('first', 2), ('large', 1), ('knight', 2), ('stabbed', 1), ('demon', 1), ('name', 1), ('dripping', 1), ('sound', 1), ('turns', 1), ('find', 4), ('been', 4), ('pinned', 2), ('opposite', 1), ('wall', 2), ('sword', 1), ('through', 2), ('inspector', 3), ('megure', 3), ('arrives', 1), ('check', 1), ('surveillance', 3), ('cameras', 1), ('if', 5), ('culprit', 1), ('was', 4), ('murderer', 2), ('had', 3), ('lying', 1), ('wait', 2), ('guise', 1), ('camera', 2), ('caught', 1), ('brutal', 1), ('multiple', 1), ('stabbings', 1), ('ending', 1), ('him', 5), ('walking', 1), ('towards', 1), ('exactly', 1), ('because', 2), ('blocked', 1), ('off', 2), ('4', 1), ('5', 1), ('video', 2), ('timestamps', 1), ('set', 1), ('murder', 1), ('deduces', 1), ('must', 4), ('also', 2), ('tried', 1), ('write', 2), ('something', 2), ('piece', 1), ('paper', 3), ('between', 1), ('attack', 1), ('he', 14), ('threw', 1), ('pen', 4), ('remains', 1), ('crumpled', 1), ('names', 1), ('no', 2), ('alibi', 1), ('doing', 1), ('task', 1), ('where', 1), ('motive', 1), ('iijima', 1), ('owner', 1), ('wanted', 1), ('repay', 1), ('money', 1), ('made', 2), ('selling', 1), ('pieces', 1), ('finds', 2), ('anyone', 1), ('could', 1), ('have', 5), ('forgotten', 1), ('matches', 1), ('image', 1), ('so', 3), ('concludes', 1), ('is', 5), ('detained', 1), ('unsatisfied', 1), ('apparent', 1), ('carelessness', 1), ('why', 2), ('would', 1), ('mirror', 1), ('great', 1), ('sure', 2), ('really', 1), ('police', 2), ('officers', 1), ('let', 2), ('watch', 1), ('footage', 1), ('one', 2), ('more', 1), ('looks', 1), ('shocked', 1), ('sees', 1), ('writes', 1), ('realizes', 3), ('found', 1), ('point', 1), ('there', 1), ('reason', 1), ('or', 1), ('time', 1), ('retract', 1), ('throwing', 1), ('tricks', 1), ('way', 3), ('into', 1), ('dying', 1), ('inkless', 1), ('scribbles', 1), ('original', 1), ('figured', 1), ('out', 2), ('truth', 1), ('knows', 2), ('reviews', 1), ('what', 2), ('remembers', 1), ('according', 1), ('bomb', 3), ('triggered', 1), ('suspect', 1), ('salaryman', 1), ('businesswoman', 1), ('cellular', 1), ('elderly', 1), ('man', 1), ('deduce', 1), ('trigger', 1), ('without', 1), ('further', 1), ('sight', 1), ('again', 1), ('how', 1), ('only', 2), ('believe', 1), ('seriousness', 1), ('threat', 1), ('reveals', 1), ('identity', 2), ('shinichi', 1), ('gets', 1), ('become', 1), ('train', 1), ('explodes', 1), ('dead', 1), ('childish', 1), ('masks', 1), ('apologizes', 1), ('hiding', 1), ('true', 1), ('can', 2), ('reveal', 1), ('child', 1), ('across', 1), ('aisle', 1), ('complains', 1), ('being', 1), ('able', 1), ('ocean', 1), ('from', 2), ('side', 1), ('group', 2), ('long', 1), ('still', 1), ('seen', 2), ('fifth', 1), ('italian', 4), ('wrote', 1), ('mistake', 1), ('tells', 1), ('go', 1), ('back', 1), ('beginning', 1), ('start', 1), ('writer', 1), ('just', 1), ('whole', 1), ('thing', 1), ('instead', 1), ('drawing', 1), ('those', 1), ('moon', 1), ('own', 1), ('maybe', 1), ('symbols', 2), ('you', 1), ('most', 1), ('represent', 1), ('neon', 4), ('signs', 2), ('struggle', 1), ('last', 1), ('fish', 2), ('mitsuhiko', 1), ('although', 1), ('downtown', 1), ('river', 1), ('runs', 1), ('too', 1), ('far', 1), ('lights', 1), ('person', 1), ('actual', 1)]\n"
          ],
          "name": "stdout"
        }
      ]
    },
    {
      "cell_type": "code",
      "metadata": {
        "colab": {
          "base_uri": "https://localhost:8080/"
        },
        "id": "xCC6_EUXD6ER",
        "outputId": "ee02b2e8-85aa-4257-f255-2177fa7e1773"
      },
      "source": [
        "# word most commonly found in the file\n",
        "word = counts.reduce(lambda x,y: x if x[1] > y[1] else y)\n",
        "FreqMax = word[1]\n",
        "# print(FreqMax)\n",
        "WordMax = [i for i in counts.collect() if i[1] == FreqMax]\n",
        "print(\"Word most commonly found in the file:\")\n",
        "print(WordMax)"
      ],
      "execution_count": 7,
      "outputs": [
        {
          "output_type": "stream",
          "text": [
            "Word most commonly found in the file:\n",
            "[('the', 86)]\n"
          ],
          "name": "stdout"
        }
      ]
    },
    {
      "cell_type": "code",
      "metadata": {
        "colab": {
          "base_uri": "https://localhost:8080/"
        },
        "id": "3LZJVjgyD8tx",
        "outputId": "f875c4d0-9d40-4214-a52b-d47c1e2b27f9"
      },
      "source": [
        "# test\n",
        "spark = SparkSession.builder.master(\"local[2]\").appName(\"WordCount\").getOrCreate()\n",
        "dataList = [(\"Java\", 20000), (\"Python\", 100000), (\"Scala\", 3000), ('Java',2300)]\n",
        "rdd = spark.sparkContext.parallelize(dataList)\n",
        "counts_test = rdd.reduceByKey(lambda x, y: x + y)\n",
        "print(counts_test.collect())"
      ],
      "execution_count": 8,
      "outputs": [
        {
          "output_type": "stream",
          "text": [
            "[('Java', 22300), ('Python', 100000), ('Scala', 3000)]\n"
          ],
          "name": "stdout"
        }
      ]
    },
    {
      "cell_type": "code",
      "metadata": {
        "colab": {
          "base_uri": "https://localhost:8080/"
        },
        "id": "qr_HEO7JD-Pg",
        "outputId": "b8e01041-a88f-4189-9e3f-c60874751f00"
      },
      "source": [
        "import pyspark\n",
        "from pyspark import SparkConf, SparkContext\n",
        "from pyspark.sql import SparkSession\n",
        "import collections\n",
        "spark = SparkSession.builder.master(\"local[2]\").appName(\"WordCount\").getOrCreate()\n",
        "dataList = [\"Java\", \"Python\", \"Scala\", 'Javascript']\n",
        "rdd = spark.sparkContext.parallelize(dataList)\n",
        "key = rdd.map(lambda word: (word, 1))\n",
        "print(key.collect())"
      ],
      "execution_count": 9,
      "outputs": [
        {
          "output_type": "stream",
          "text": [
            "[('Java', 1), ('Python', 1), ('Scala', 1), ('Javascript', 1)]\n"
          ],
          "name": "stdout"
        }
      ]
    },
    {
      "cell_type": "code",
      "metadata": {
        "id": "i9loEYKZWdhY"
      },
      "source": [
        ""
      ],
      "execution_count": null,
      "outputs": []
    }
  ]
}